{
 "cells": [
  {
   "cell_type": "markdown",
   "id": "142ff793",
   "metadata": {
    "execution": {
     "iopub.execute_input": "2022-10-27T10:04:14.972361Z",
     "iopub.status.busy": "2022-10-27T10:04:14.971930Z",
     "iopub.status.idle": "2022-10-27T10:04:14.981372Z",
     "shell.execute_reply": "2022-10-27T10:04:14.979314Z",
     "shell.execute_reply.started": "2022-10-27T10:04:14.972328Z"
    },
    "papermill": {
     "duration": 0.016175,
     "end_time": "2022-11-04T15:35:27.587696",
     "exception": false,
     "start_time": "2022-11-04T15:35:27.571521",
     "status": "completed"
    },
    "tags": []
   },
   "source": [
    "<div style=\"color:white;\n",
    "           display:fill;\n",
    "           border-radius:15px;\n",
    "           background-color:#0336FF;\n",
    "           font-size:300%;\n",
    "           font-family:Arial;\n",
    "           font-style: Arial;\n",
    "           letter-spacing:0.10px\">\n",
    "\n",
    "<p style=\"font-size:40px; color:white; text-align:center\">EDA</p>\n",
    "</div>\n"
   ]
  },
  {
   "cell_type": "markdown",
   "id": "d73bd51d",
   "metadata": {
    "papermill": {
     "duration": 0.0159,
     "end_time": "2022-11-04T15:35:27.618207",
     "exception": false,
     "start_time": "2022-11-04T15:35:27.602307",
     "status": "completed"
    },
    "tags": []
   },
   "source": [
    "## **1 Analysis:**\n",
    "\n",
    "1. Univariate Analysis\n",
    "2. Multivariate Analysis\n",
    "\n",
    "## **2 Feature Engineering:**\n",
    "\n",
    "1. Creating new Columns\n",
    "2. Modifying existing ones\n",
    "\n",
    "## **3 Handling Outliers:**\n",
    "\n",
    "1. Detect Outliers \n",
    "2. Remove Outliers\n",
    "\n",
    "## **4 Conclusions.**"
   ]
  },
  {
   "cell_type": "markdown",
   "id": "19cedcb5",
   "metadata": {
    "papermill": {
     "duration": 0.013874,
     "end_time": "2022-11-04T15:35:27.646470",
     "exception": false,
     "start_time": "2022-11-04T15:35:27.632596",
     "status": "completed"
    },
    "tags": []
   },
   "source": [
    "> #### **Note: Always remember that the entire Process of EDA is highly iterative!**"
   ]
  },
  {
   "cell_type": "code",
   "execution_count": 1,
   "id": "153a51fb",
   "metadata": {
    "_cell_guid": "b1076dfc-b9ad-4769-8c92-a6c4dae69d19",
    "_uuid": "8f2839f25d086af736a60e9eeb907d3b93b6e0e5",
    "execution": {
     "iopub.execute_input": "2022-11-04T15:35:27.676813Z",
     "iopub.status.busy": "2022-11-04T15:35:27.676316Z",
     "iopub.status.idle": "2022-11-04T15:35:28.629040Z",
     "shell.execute_reply": "2022-11-04T15:35:28.627757Z"
    },
    "papermill": {
     "duration": 0.971825,
     "end_time": "2022-11-04T15:35:28.632462",
     "exception": false,
     "start_time": "2022-11-04T15:35:27.660637",
     "status": "completed"
    },
    "tags": []
   },
   "outputs": [],
   "source": [
    "import numpy as np \n",
    "import pandas as pd \n",
    "import seaborn as sns\n",
    "import matplotlib.pyplot as plt\n",
    "plt.style.use('fivethirtyeight')\n",
    "\n",
    "import warnings\n",
    "warnings.simplefilter(action='ignore', category=FutureWarning)\n"
   ]
  },
  {
   "cell_type": "code",
   "execution_count": 2,
   "id": "384c65b5",
   "metadata": {
    "_cell_guid": "79c7e3d0-c299-4dcb-8224-4455121ee9b0",
    "_uuid": "d629ff2d2480ee46fbb7e2d37f6b5fab8052498a",
    "execution": {
     "iopub.execute_input": "2022-11-04T15:35:28.663378Z",
     "iopub.status.busy": "2022-11-04T15:35:28.662971Z",
     "iopub.status.idle": "2022-11-04T15:35:28.683625Z",
     "shell.execute_reply": "2022-11-04T15:35:28.682600Z"
    },
    "papermill": {
     "duration": 0.039042,
     "end_time": "2022-11-04T15:35:28.686340",
     "exception": false,
     "start_time": "2022-11-04T15:35:28.647298",
     "status": "completed"
    },
    "tags": []
   },
   "outputs": [],
   "source": [
    "df = pd.read_csv('../input/titanic/train.csv')"
   ]
  },
  {
   "cell_type": "code",
   "execution_count": 3,
   "id": "36b7087c",
   "metadata": {
    "execution": {
     "iopub.execute_input": "2022-11-04T15:35:28.717048Z",
     "iopub.status.busy": "2022-11-04T15:35:28.716631Z",
     "iopub.status.idle": "2022-11-04T15:35:28.725668Z",
     "shell.execute_reply": "2022-11-04T15:35:28.724512Z"
    },
    "papermill": {
     "duration": 0.027813,
     "end_time": "2022-11-04T15:35:28.728534",
     "exception": false,
     "start_time": "2022-11-04T15:35:28.700721",
     "status": "completed"
    },
    "tags": []
   },
   "outputs": [
    {
     "data": {
      "text/plain": [
       "(891, 12)"
      ]
     },
     "execution_count": 3,
     "metadata": {},
     "output_type": "execute_result"
    }
   ],
   "source": [
    "# Previewing the data\n",
    "\n",
    "df.shape"
   ]
  },
  {
   "cell_type": "code",
   "execution_count": 4,
   "id": "33667fc3",
   "metadata": {
    "execution": {
     "iopub.execute_input": "2022-11-04T15:35:28.759740Z",
     "iopub.status.busy": "2022-11-04T15:35:28.758790Z",
     "iopub.status.idle": "2022-11-04T15:35:28.782899Z",
     "shell.execute_reply": "2022-11-04T15:35:28.781542Z"
    },
    "papermill": {
     "duration": 0.042478,
     "end_time": "2022-11-04T15:35:28.785573",
     "exception": false,
     "start_time": "2022-11-04T15:35:28.743095",
     "status": "completed"
    },
    "tags": []
   },
   "outputs": [
    {
     "data": {
      "text/html": [
       "<div>\n",
       "<style scoped>\n",
       "    .dataframe tbody tr th:only-of-type {\n",
       "        vertical-align: middle;\n",
       "    }\n",
       "\n",
       "    .dataframe tbody tr th {\n",
       "        vertical-align: top;\n",
       "    }\n",
       "\n",
       "    .dataframe thead th {\n",
       "        text-align: right;\n",
       "    }\n",
       "</style>\n",
       "<table border=\"1\" class=\"dataframe\">\n",
       "  <thead>\n",
       "    <tr style=\"text-align: right;\">\n",
       "      <th></th>\n",
       "      <th>PassengerId</th>\n",
       "      <th>Survived</th>\n",
       "      <th>Pclass</th>\n",
       "      <th>Name</th>\n",
       "      <th>Sex</th>\n",
       "      <th>Age</th>\n",
       "      <th>SibSp</th>\n",
       "      <th>Parch</th>\n",
       "      <th>Ticket</th>\n",
       "      <th>Fare</th>\n",
       "      <th>Cabin</th>\n",
       "      <th>Embarked</th>\n",
       "    </tr>\n",
       "  </thead>\n",
       "  <tbody>\n",
       "    <tr>\n",
       "      <th>52</th>\n",
       "      <td>53</td>\n",
       "      <td>1</td>\n",
       "      <td>1</td>\n",
       "      <td>Harper, Mrs. Henry Sleeper (Myna Haxtun)</td>\n",
       "      <td>female</td>\n",
       "      <td>49.0</td>\n",
       "      <td>1</td>\n",
       "      <td>0</td>\n",
       "      <td>PC 17572</td>\n",
       "      <td>76.7292</td>\n",
       "      <td>D33</td>\n",
       "      <td>C</td>\n",
       "    </tr>\n",
       "    <tr>\n",
       "      <th>190</th>\n",
       "      <td>191</td>\n",
       "      <td>1</td>\n",
       "      <td>2</td>\n",
       "      <td>Pinsky, Mrs. (Rosa)</td>\n",
       "      <td>female</td>\n",
       "      <td>32.0</td>\n",
       "      <td>0</td>\n",
       "      <td>0</td>\n",
       "      <td>234604</td>\n",
       "      <td>13.0000</td>\n",
       "      <td>NaN</td>\n",
       "      <td>S</td>\n",
       "    </tr>\n",
       "    <tr>\n",
       "      <th>506</th>\n",
       "      <td>507</td>\n",
       "      <td>1</td>\n",
       "      <td>2</td>\n",
       "      <td>Quick, Mrs. Frederick Charles (Jane Richards)</td>\n",
       "      <td>female</td>\n",
       "      <td>33.0</td>\n",
       "      <td>0</td>\n",
       "      <td>2</td>\n",
       "      <td>26360</td>\n",
       "      <td>26.0000</td>\n",
       "      <td>NaN</td>\n",
       "      <td>S</td>\n",
       "    </tr>\n",
       "    <tr>\n",
       "      <th>850</th>\n",
       "      <td>851</td>\n",
       "      <td>0</td>\n",
       "      <td>3</td>\n",
       "      <td>Andersson, Master. Sigvard Harald Elias</td>\n",
       "      <td>male</td>\n",
       "      <td>4.0</td>\n",
       "      <td>4</td>\n",
       "      <td>2</td>\n",
       "      <td>347082</td>\n",
       "      <td>31.2750</td>\n",
       "      <td>NaN</td>\n",
       "      <td>S</td>\n",
       "    </tr>\n",
       "    <tr>\n",
       "      <th>467</th>\n",
       "      <td>468</td>\n",
       "      <td>0</td>\n",
       "      <td>1</td>\n",
       "      <td>Smart, Mr. John Montgomery</td>\n",
       "      <td>male</td>\n",
       "      <td>56.0</td>\n",
       "      <td>0</td>\n",
       "      <td>0</td>\n",
       "      <td>113792</td>\n",
       "      <td>26.5500</td>\n",
       "      <td>NaN</td>\n",
       "      <td>S</td>\n",
       "    </tr>\n",
       "  </tbody>\n",
       "</table>\n",
       "</div>"
      ],
      "text/plain": [
       "     PassengerId  Survived  Pclass  \\\n",
       "52            53         1       1   \n",
       "190          191         1       2   \n",
       "506          507         1       2   \n",
       "850          851         0       3   \n",
       "467          468         0       1   \n",
       "\n",
       "                                              Name     Sex   Age  SibSp  \\\n",
       "52        Harper, Mrs. Henry Sleeper (Myna Haxtun)  female  49.0      1   \n",
       "190                            Pinsky, Mrs. (Rosa)  female  32.0      0   \n",
       "506  Quick, Mrs. Frederick Charles (Jane Richards)  female  33.0      0   \n",
       "850        Andersson, Master. Sigvard Harald Elias    male   4.0      4   \n",
       "467                     Smart, Mr. John Montgomery    male  56.0      0   \n",
       "\n",
       "     Parch    Ticket     Fare Cabin Embarked  \n",
       "52       0  PC 17572  76.7292   D33        C  \n",
       "190      0    234604  13.0000   NaN        S  \n",
       "506      2     26360  26.0000   NaN        S  \n",
       "850      2    347082  31.2750   NaN        S  \n",
       "467      0    113792  26.5500   NaN        S  "
      ]
     },
     "execution_count": 4,
     "metadata": {},
     "output_type": "execute_result"
    }
   ],
   "source": [
    "df.sample(5)"
   ]
  },
  {
   "cell_type": "code",
   "execution_count": 5,
   "id": "8ea7e1f7",
   "metadata": {
    "execution": {
     "iopub.execute_input": "2022-11-04T15:35:28.817426Z",
     "iopub.status.busy": "2022-11-04T15:35:28.816650Z",
     "iopub.status.idle": "2022-11-04T15:35:28.826594Z",
     "shell.execute_reply": "2022-11-04T15:35:28.825418Z"
    },
    "papermill": {
     "duration": 0.028578,
     "end_time": "2022-11-04T15:35:28.829032",
     "exception": false,
     "start_time": "2022-11-04T15:35:28.800454",
     "status": "completed"
    },
    "tags": []
   },
   "outputs": [
    {
     "data": {
      "text/plain": [
       "PassengerId      0\n",
       "Survived         0\n",
       "Pclass           0\n",
       "Name             0\n",
       "Sex              0\n",
       "Age            177\n",
       "SibSp            0\n",
       "Parch            0\n",
       "Ticket           0\n",
       "Fare             0\n",
       "Cabin          687\n",
       "Embarked         2\n",
       "dtype: int64"
      ]
     },
     "execution_count": 5,
     "metadata": {},
     "output_type": "execute_result"
    }
   ],
   "source": [
    "# Check for missing values\n",
    "\n",
    "df.isnull().sum()"
   ]
  },
  {
   "cell_type": "code",
   "execution_count": 6,
   "id": "4848ddbe",
   "metadata": {
    "execution": {
     "iopub.execute_input": "2022-11-04T15:35:28.861480Z",
     "iopub.status.busy": "2022-11-04T15:35:28.860635Z",
     "iopub.status.idle": "2022-11-04T15:35:28.868053Z",
     "shell.execute_reply": "2022-11-04T15:35:28.866934Z"
    },
    "papermill": {
     "duration": 0.026434,
     "end_time": "2022-11-04T15:35:28.870414",
     "exception": false,
     "start_time": "2022-11-04T15:35:28.843980",
     "status": "completed"
    },
    "tags": []
   },
   "outputs": [
    {
     "data": {
      "text/plain": [
       "array(['PassengerId', 'Survived', 'Pclass', 'Name', 'Sex', 'Age', 'SibSp',\n",
       "       'Parch', 'Ticket', 'Fare', 'Cabin', 'Embarked'], dtype=object)"
      ]
     },
     "execution_count": 6,
     "metadata": {},
     "output_type": "execute_result"
    }
   ],
   "source": [
    "# Listing down the columns\n",
    "df.columns.values"
   ]
  },
  {
   "cell_type": "markdown",
   "id": "f0c28f9f",
   "metadata": {
    "papermill": {
     "duration": 0.014627,
     "end_time": "2022-11-04T15:35:28.900153",
     "exception": false,
     "start_time": "2022-11-04T15:35:28.885526",
     "status": "completed"
    },
    "tags": []
   },
   "source": [
    "### **Categorical Columns**\n",
    "\n",
    "- Survived\n",
    "- PClass\n",
    "- Sex\n",
    "- SibSp\n",
    "- Parch\n",
    "- Embarked\n",
    "\n",
    "### **Numerical Columns**\n",
    "\n",
    "- Age\n",
    "- Fare\n",
    "- PassengerId\n",
    "\n",
    "### **Mixed Columns**\n",
    "\n",
    "- Name\n",
    "- Ticket\n",
    "- Cabin"
   ]
  },
  {
   "cell_type": "code",
   "execution_count": 7,
   "id": "7ca91930",
   "metadata": {
    "execution": {
     "iopub.execute_input": "2022-11-04T15:35:28.932052Z",
     "iopub.status.busy": "2022-11-04T15:35:28.931650Z",
     "iopub.status.idle": "2022-11-04T15:35:28.954143Z",
     "shell.execute_reply": "2022-11-04T15:35:28.952389Z"
    },
    "papermill": {
     "duration": 0.042093,
     "end_time": "2022-11-04T15:35:28.957318",
     "exception": false,
     "start_time": "2022-11-04T15:35:28.915225",
     "status": "completed"
    },
    "tags": []
   },
   "outputs": [
    {
     "name": "stdout",
     "output_type": "stream",
     "text": [
      "<class 'pandas.core.frame.DataFrame'>\n",
      "RangeIndex: 891 entries, 0 to 890\n",
      "Data columns (total 12 columns):\n",
      " #   Column       Non-Null Count  Dtype  \n",
      "---  ------       --------------  -----  \n",
      " 0   PassengerId  891 non-null    int64  \n",
      " 1   Survived     891 non-null    int64  \n",
      " 2   Pclass       891 non-null    int64  \n",
      " 3   Name         891 non-null    object \n",
      " 4   Sex          891 non-null    object \n",
      " 5   Age          714 non-null    float64\n",
      " 6   SibSp        891 non-null    int64  \n",
      " 7   Parch        891 non-null    int64  \n",
      " 8   Ticket       891 non-null    object \n",
      " 9   Fare         891 non-null    float64\n",
      " 10  Cabin        204 non-null    object \n",
      " 11  Embarked     889 non-null    object \n",
      "dtypes: float64(2), int64(5), object(5)\n",
      "memory usage: 83.7+ KB\n"
     ]
    }
   ],
   "source": [
    "# Data type of cols\n",
    "\n",
    "df.info()"
   ]
  },
  {
   "cell_type": "markdown",
   "id": "223c2c84",
   "metadata": {
    "papermill": {
     "duration": 0.014894,
     "end_time": "2022-11-04T15:35:28.988263",
     "exception": false,
     "start_time": "2022-11-04T15:35:28.973369",
     "status": "completed"
    },
    "tags": []
   },
   "source": [
    "### **Few conclusions:**\n",
    "\n",
    "1. Missing values in Age, Cabin and embarked columns.\n",
    "2. More than 70 percent values are missing in cabin columns, will have to drop.\n",
    "3. Few columns have inappropriated data types."
   ]
  },
  {
   "cell_type": "code",
   "execution_count": 8,
   "id": "3d37ff42",
   "metadata": {
    "execution": {
     "iopub.execute_input": "2022-11-04T15:35:29.020239Z",
     "iopub.status.busy": "2022-11-04T15:35:29.019861Z",
     "iopub.status.idle": "2022-11-04T15:35:29.026345Z",
     "shell.execute_reply": "2022-11-04T15:35:29.025102Z"
    },
    "papermill": {
     "duration": 0.025299,
     "end_time": "2022-11-04T15:35:29.028575",
     "exception": false,
     "start_time": "2022-11-04T15:35:29.003276",
     "status": "completed"
    },
    "tags": []
   },
   "outputs": [],
   "source": [
    "# Dropping cabin column\n",
    "\n",
    "df.drop(columns= ['Cabin'], inplace = True)"
   ]
  },
  {
   "cell_type": "code",
   "execution_count": 9,
   "id": "bf56ca77",
   "metadata": {
    "execution": {
     "iopub.execute_input": "2022-11-04T15:35:29.060546Z",
     "iopub.status.busy": "2022-11-04T15:35:29.060146Z",
     "iopub.status.idle": "2022-11-04T15:35:29.067161Z",
     "shell.execute_reply": "2022-11-04T15:35:29.066029Z"
    },
    "papermill": {
     "duration": 0.025552,
     "end_time": "2022-11-04T15:35:29.069266",
     "exception": false,
     "start_time": "2022-11-04T15:35:29.043714",
     "status": "completed"
    },
    "tags": []
   },
   "outputs": [],
   "source": [
    "# inputing missing values for embarked \n",
    "# finding the most appeared value in embarked column\n",
    "\n",
    "df['Embarked'].value_counts()\n",
    "\n",
    "# S it is \n",
    "\n",
    "df['Embarked'].fillna('S', inplace=True)"
   ]
  },
  {
   "cell_type": "code",
   "execution_count": 10,
   "id": "b6c67461",
   "metadata": {
    "execution": {
     "iopub.execute_input": "2022-11-04T15:35:29.101564Z",
     "iopub.status.busy": "2022-11-04T15:35:29.101132Z",
     "iopub.status.idle": "2022-11-04T15:35:29.111552Z",
     "shell.execute_reply": "2022-11-04T15:35:29.110474Z"
    },
    "papermill": {
     "duration": 0.029239,
     "end_time": "2022-11-04T15:35:29.113735",
     "exception": false,
     "start_time": "2022-11-04T15:35:29.084496",
     "status": "completed"
    },
    "tags": []
   },
   "outputs": [
    {
     "data": {
      "text/plain": [
       "PassengerId      0\n",
       "Survived         0\n",
       "Pclass           0\n",
       "Name             0\n",
       "Sex              0\n",
       "Age            177\n",
       "SibSp            0\n",
       "Parch            0\n",
       "Ticket           0\n",
       "Fare             0\n",
       "Embarked         0\n",
       "dtype: int64"
      ]
     },
     "execution_count": 10,
     "metadata": {},
     "output_type": "execute_result"
    }
   ],
   "source": [
    "df.isnull().sum()"
   ]
  },
  {
   "cell_type": "markdown",
   "id": "f6c7f139",
   "metadata": {
    "papermill": {
     "duration": 0.015228,
     "end_time": "2022-11-04T15:35:29.144726",
     "exception": false,
     "start_time": "2022-11-04T15:35:29.129498",
     "status": "completed"
    },
    "tags": []
   },
   "source": [
    "#### **Changing data type for the following columns:**\n",
    "- Survived (Category)\n",
    "- PClass (Category)\n",
    "- Sex (Category)\n",
    "- Age (int)\n",
    "- Embarked (Category)"
   ]
  },
  {
   "cell_type": "code",
   "execution_count": 11,
   "id": "99c7f2f1",
   "metadata": {
    "execution": {
     "iopub.execute_input": "2022-11-04T15:35:29.177384Z",
     "iopub.status.busy": "2022-11-04T15:35:29.176980Z",
     "iopub.status.idle": "2022-11-04T15:35:29.182912Z",
     "shell.execute_reply": "2022-11-04T15:35:29.181834Z"
    },
    "papermill": {
     "duration": 0.025191,
     "end_time": "2022-11-04T15:35:29.185503",
     "exception": false,
     "start_time": "2022-11-04T15:35:29.160312",
     "status": "completed"
    },
    "tags": []
   },
   "outputs": [],
   "source": [
    "# Handling Missing values\n",
    "# Inputing missing values of age\n",
    "\n",
    "# Strategy - mean\n",
    "\n",
    "mean_value=df['Age'].mean()\n",
    "df['Age'] = df['Age'].fillna(value=mean_value)"
   ]
  },
  {
   "cell_type": "code",
   "execution_count": 12,
   "id": "f274f375",
   "metadata": {
    "execution": {
     "iopub.execute_input": "2022-11-04T15:35:29.219200Z",
     "iopub.status.busy": "2022-11-04T15:35:29.218401Z",
     "iopub.status.idle": "2022-11-04T15:35:29.232105Z",
     "shell.execute_reply": "2022-11-04T15:35:29.230785Z"
    },
    "papermill": {
     "duration": 0.033757,
     "end_time": "2022-11-04T15:35:29.234537",
     "exception": false,
     "start_time": "2022-11-04T15:35:29.200780",
     "status": "completed"
    },
    "tags": []
   },
   "outputs": [
    {
     "name": "stdout",
     "output_type": "stream",
     "text": [
      "<class 'pandas.core.frame.DataFrame'>\n",
      "RangeIndex: 891 entries, 0 to 890\n",
      "Data columns (total 11 columns):\n",
      " #   Column       Non-Null Count  Dtype  \n",
      "---  ------       --------------  -----  \n",
      " 0   PassengerId  891 non-null    int64  \n",
      " 1   Survived     891 non-null    int64  \n",
      " 2   Pclass       891 non-null    int64  \n",
      " 3   Name         891 non-null    object \n",
      " 4   Sex          891 non-null    object \n",
      " 5   Age          891 non-null    float64\n",
      " 6   SibSp        891 non-null    int64  \n",
      " 7   Parch        891 non-null    int64  \n",
      " 8   Ticket       891 non-null    object \n",
      " 9   Fare         891 non-null    float64\n",
      " 10  Embarked     891 non-null    object \n",
      "dtypes: float64(2), int64(5), object(4)\n",
      "memory usage: 76.7+ KB\n",
      "None\n"
     ]
    }
   ],
   "source": [
    "print(df.info())"
   ]
  },
  {
   "cell_type": "code",
   "execution_count": 13,
   "id": "4fa434f6",
   "metadata": {
    "execution": {
     "iopub.execute_input": "2022-11-04T15:35:29.267766Z",
     "iopub.status.busy": "2022-11-04T15:35:29.267098Z",
     "iopub.status.idle": "2022-11-04T15:35:29.277741Z",
     "shell.execute_reply": "2022-11-04T15:35:29.276878Z"
    },
    "papermill": {
     "duration": 0.029825,
     "end_time": "2022-11-04T15:35:29.280124",
     "exception": false,
     "start_time": "2022-11-04T15:35:29.250299",
     "status": "completed"
    },
    "tags": []
   },
   "outputs": [],
   "source": [
    "# Changing DataType of Columns: \n",
    "\n",
    "df['Survived'] = df['Survived'].astype('category')\n",
    "df['Pclass'] = df['Pclass'].astype('category')\n",
    "df['Sex'] = df['Sex'].astype('category')\n",
    "df['Embarked'] = df['Embarked'].astype('category')\n",
    "df['Age'] = df['Age'].astype('int64')"
   ]
  },
  {
   "cell_type": "code",
   "execution_count": 14,
   "id": "04cb5b97",
   "metadata": {
    "execution": {
     "iopub.execute_input": "2022-11-04T15:35:29.312681Z",
     "iopub.status.busy": "2022-11-04T15:35:29.312039Z",
     "iopub.status.idle": "2022-11-04T15:35:29.327770Z",
     "shell.execute_reply": "2022-11-04T15:35:29.326589Z"
    },
    "papermill": {
     "duration": 0.035087,
     "end_time": "2022-11-04T15:35:29.330402",
     "exception": false,
     "start_time": "2022-11-04T15:35:29.295315",
     "status": "completed"
    },
    "tags": []
   },
   "outputs": [
    {
     "name": "stdout",
     "output_type": "stream",
     "text": [
      "<class 'pandas.core.frame.DataFrame'>\n",
      "RangeIndex: 891 entries, 0 to 890\n",
      "Data columns (total 11 columns):\n",
      " #   Column       Non-Null Count  Dtype   \n",
      "---  ------       --------------  -----   \n",
      " 0   PassengerId  891 non-null    int64   \n",
      " 1   Survived     891 non-null    category\n",
      " 2   Pclass       891 non-null    category\n",
      " 3   Name         891 non-null    object  \n",
      " 4   Sex          891 non-null    category\n",
      " 5   Age          891 non-null    int64   \n",
      " 6   SibSp        891 non-null    int64   \n",
      " 7   Parch        891 non-null    int64   \n",
      " 8   Ticket       891 non-null    object  \n",
      " 9   Fare         891 non-null    float64 \n",
      " 10  Embarked     891 non-null    category\n",
      "dtypes: category(4), float64(1), int64(4), object(2)\n",
      "memory usage: 52.8+ KB\n"
     ]
    }
   ],
   "source": [
    "df.info()"
   ]
  },
  {
   "cell_type": "code",
   "execution_count": 15,
   "id": "7a115e80",
   "metadata": {
    "execution": {
     "iopub.execute_input": "2022-11-04T15:35:29.363566Z",
     "iopub.status.busy": "2022-11-04T15:35:29.362398Z",
     "iopub.status.idle": "2022-11-04T15:35:29.390924Z",
     "shell.execute_reply": "2022-11-04T15:35:29.389800Z"
    },
    "papermill": {
     "duration": 0.047568,
     "end_time": "2022-11-04T15:35:29.393441",
     "exception": false,
     "start_time": "2022-11-04T15:35:29.345873",
     "status": "completed"
    },
    "tags": []
   },
   "outputs": [
    {
     "data": {
      "text/html": [
       "<div>\n",
       "<style scoped>\n",
       "    .dataframe tbody tr th:only-of-type {\n",
       "        vertical-align: middle;\n",
       "    }\n",
       "\n",
       "    .dataframe tbody tr th {\n",
       "        vertical-align: top;\n",
       "    }\n",
       "\n",
       "    .dataframe thead th {\n",
       "        text-align: right;\n",
       "    }\n",
       "</style>\n",
       "<table border=\"1\" class=\"dataframe\">\n",
       "  <thead>\n",
       "    <tr style=\"text-align: right;\">\n",
       "      <th></th>\n",
       "      <th>PassengerId</th>\n",
       "      <th>Age</th>\n",
       "      <th>SibSp</th>\n",
       "      <th>Parch</th>\n",
       "      <th>Fare</th>\n",
       "    </tr>\n",
       "  </thead>\n",
       "  <tbody>\n",
       "    <tr>\n",
       "      <th>count</th>\n",
       "      <td>891.000000</td>\n",
       "      <td>891.000000</td>\n",
       "      <td>891.000000</td>\n",
       "      <td>891.000000</td>\n",
       "      <td>891.000000</td>\n",
       "    </tr>\n",
       "    <tr>\n",
       "      <th>mean</th>\n",
       "      <td>446.000000</td>\n",
       "      <td>29.544332</td>\n",
       "      <td>0.523008</td>\n",
       "      <td>0.381594</td>\n",
       "      <td>32.204208</td>\n",
       "    </tr>\n",
       "    <tr>\n",
       "      <th>std</th>\n",
       "      <td>257.353842</td>\n",
       "      <td>13.013778</td>\n",
       "      <td>1.102743</td>\n",
       "      <td>0.806057</td>\n",
       "      <td>49.693429</td>\n",
       "    </tr>\n",
       "    <tr>\n",
       "      <th>min</th>\n",
       "      <td>1.000000</td>\n",
       "      <td>0.000000</td>\n",
       "      <td>0.000000</td>\n",
       "      <td>0.000000</td>\n",
       "      <td>0.000000</td>\n",
       "    </tr>\n",
       "    <tr>\n",
       "      <th>25%</th>\n",
       "      <td>223.500000</td>\n",
       "      <td>22.000000</td>\n",
       "      <td>0.000000</td>\n",
       "      <td>0.000000</td>\n",
       "      <td>7.910400</td>\n",
       "    </tr>\n",
       "    <tr>\n",
       "      <th>50%</th>\n",
       "      <td>446.000000</td>\n",
       "      <td>29.000000</td>\n",
       "      <td>0.000000</td>\n",
       "      <td>0.000000</td>\n",
       "      <td>14.454200</td>\n",
       "    </tr>\n",
       "    <tr>\n",
       "      <th>75%</th>\n",
       "      <td>668.500000</td>\n",
       "      <td>35.000000</td>\n",
       "      <td>1.000000</td>\n",
       "      <td>0.000000</td>\n",
       "      <td>31.000000</td>\n",
       "    </tr>\n",
       "    <tr>\n",
       "      <th>max</th>\n",
       "      <td>891.000000</td>\n",
       "      <td>80.000000</td>\n",
       "      <td>8.000000</td>\n",
       "      <td>6.000000</td>\n",
       "      <td>512.329200</td>\n",
       "    </tr>\n",
       "  </tbody>\n",
       "</table>\n",
       "</div>"
      ],
      "text/plain": [
       "       PassengerId         Age       SibSp       Parch        Fare\n",
       "count   891.000000  891.000000  891.000000  891.000000  891.000000\n",
       "mean    446.000000   29.544332    0.523008    0.381594   32.204208\n",
       "std     257.353842   13.013778    1.102743    0.806057   49.693429\n",
       "min       1.000000    0.000000    0.000000    0.000000    0.000000\n",
       "25%     223.500000   22.000000    0.000000    0.000000    7.910400\n",
       "50%     446.000000   29.000000    0.000000    0.000000   14.454200\n",
       "75%     668.500000   35.000000    1.000000    0.000000   31.000000\n",
       "max     891.000000   80.000000    8.000000    6.000000  512.329200"
      ]
     },
     "execution_count": 15,
     "metadata": {},
     "output_type": "execute_result"
    }
   ],
   "source": [
    "# 5 Point Summary\n",
    "\n",
    "df.describe()"
   ]
  },
  {
   "cell_type": "code",
   "execution_count": 16,
   "id": "ba6ea905",
   "metadata": {
    "execution": {
     "iopub.execute_input": "2022-11-04T15:35:29.427925Z",
     "iopub.status.busy": "2022-11-04T15:35:29.427492Z",
     "iopub.status.idle": "2022-11-04T15:35:29.432692Z",
     "shell.execute_reply": "2022-11-04T15:35:29.431576Z"
    },
    "papermill": {
     "duration": 0.02565,
     "end_time": "2022-11-04T15:35:29.434860",
     "exception": false,
     "start_time": "2022-11-04T15:35:29.409210",
     "status": "completed"
    },
    "tags": []
   },
   "outputs": [],
   "source": [
    "# Maintain a copy of your data. This is just an important step in EDA\n",
    "\n",
    "df_copy = df.copy()"
   ]
  },
  {
   "cell_type": "markdown",
   "id": "d658a9b5",
   "metadata": {
    "papermill": {
     "duration": 0.015354,
     "end_time": "2022-11-04T15:35:29.465955",
     "exception": false,
     "start_time": "2022-11-04T15:35:29.450601",
     "status": "completed"
    },
    "tags": []
   },
   "source": [
    "<div style=\"color:white;\n",
    "           display:fill;\n",
    "           border-radius:15px;\n",
    "           background-color:#0336FF;\n",
    "           font-size:300%;\n",
    "           font-family:Arial;\n",
    "           font-style: Arial;\n",
    "           letter-spacing:0.10px\">\n",
    "\n",
    "<p style=\"font-size:40px; color:white; text-align:center\">Univariate Analysis</p>\n",
    "</div>\n"
   ]
  },
  {
   "cell_type": "code",
   "execution_count": 17,
   "id": "3b3a37d6",
   "metadata": {
    "execution": {
     "iopub.execute_input": "2022-11-04T15:35:29.499179Z",
     "iopub.status.busy": "2022-11-04T15:35:29.498741Z",
     "iopub.status.idle": "2022-11-04T15:35:29.509415Z",
     "shell.execute_reply": "2022-11-04T15:35:29.508189Z"
    },
    "papermill": {
     "duration": 0.030175,
     "end_time": "2022-11-04T15:35:29.511800",
     "exception": false,
     "start_time": "2022-11-04T15:35:29.481625",
     "status": "completed"
    },
    "tags": []
   },
   "outputs": [
    {
     "data": {
      "text/plain": [
       "0    61.616162\n",
       "1    38.383838\n",
       "Name: Survived, dtype: float64"
      ]
     },
     "execution_count": 17,
     "metadata": {},
     "output_type": "execute_result"
    }
   ],
   "source": [
    "# Lets start with Survived column\n",
    "\n",
    "(df['Survived'].value_counts()/df.shape[0])*100"
   ]
  },
  {
   "cell_type": "code",
   "execution_count": 18,
   "id": "73010ebb",
   "metadata": {
    "execution": {
     "iopub.execute_input": "2022-11-04T15:35:29.546168Z",
     "iopub.status.busy": "2022-11-04T15:35:29.544976Z",
     "iopub.status.idle": "2022-11-04T15:35:29.757844Z",
     "shell.execute_reply": "2022-11-04T15:35:29.756647Z"
    },
    "papermill": {
     "duration": 0.232758,
     "end_time": "2022-11-04T15:35:29.760526",
     "exception": false,
     "start_time": "2022-11-04T15:35:29.527768",
     "status": "completed"
    },
    "tags": []
   },
   "outputs": [
    {
     "data": {
      "image/png": "[encoded data removed]",
      "text/plain": [
       "<Figure size 432x288 with 1 Axes>"
      ]
     },
     "metadata": {},
     "output_type": "display_data"
    }
   ],
   "source": [
    "sns.countplot(x = df['Survived'])\n",
    "plt.show()\n",
    "\n",
    "# More people died(~62%) than survived(~38%)"
   ]
  },
  {
   "cell_type": "code",
   "execution_count": 19,
   "id": "e8b27fb7",
   "metadata": {
    "execution": {
     "iopub.execute_input": "2022-11-04T15:35:29.794453Z",
     "iopub.status.busy": "2022-11-04T15:35:29.794056Z",
     "iopub.status.idle": "2022-11-04T15:35:29.804141Z",
     "shell.execute_reply": "2022-11-04T15:35:29.803017Z"
    },
    "papermill": {
     "duration": 0.030116,
     "end_time": "2022-11-04T15:35:29.806834",
     "exception": false,
     "start_time": "2022-11-04T15:35:29.776718",
     "status": "completed"
    },
    "tags": []
   },
   "outputs": [
    {
     "data": {
      "text/plain": [
       "3    55.106622\n",
       "1    24.242424\n",
       "2    20.650954\n",
       "Name: Pclass, dtype: float64"
      ]
     },
     "execution_count": 19,
     "metadata": {},
     "output_type": "execute_result"
    }
   ],
   "source": [
    "# Pclass was the most crowded class\n",
    "\n",
    "(df['Pclass'].value_counts()/df.shape[0])*100\n",
    "\n",
    "\n",
    "\n",
    "# log soche honge ki Pclass 2 me travel karne se acha hum Pclass 1 me hi chale jate hai.\n",
    "# by the way Pclass 3 sabse jyada crowded Class tha."
   ]
  },
  {
   "cell_type": "code",
   "execution_count": 20,
   "id": "b3451d24",
   "metadata": {
    "execution": {
     "iopub.execute_input": "2022-11-04T15:35:29.840779Z",
     "iopub.status.busy": "2022-11-04T15:35:29.840408Z",
     "iopub.status.idle": "2022-11-04T15:35:30.014938Z",
     "shell.execute_reply": "2022-11-04T15:35:30.013777Z"
    },
    "papermill": {
     "duration": 0.194941,
     "end_time": "2022-11-04T15:35:30.017973",
     "exception": false,
     "start_time": "2022-11-04T15:35:29.823032",
     "status": "completed"
    },
    "tags": []
   },
   "outputs": [
    {
     "data": {
      "image/png": "[encoded data removed]",
      "text/plain": [
       "<Figure size 432x288 with 1 Axes>"
      ]
     },
     "metadata": {},
     "output_type": "display_data"
    }
   ],
   "source": [
    "sns.countplot(df['Pclass'])\n",
    "plt.show()"
   ]
  },
  {
   "cell_type": "code",
   "execution_count": 21,
   "id": "ae44fdf7",
   "metadata": {
    "execution": {
     "iopub.execute_input": "2022-11-04T15:35:30.054983Z",
     "iopub.status.busy": "2022-11-04T15:35:30.054578Z",
     "iopub.status.idle": "2022-11-04T15:35:30.066067Z",
     "shell.execute_reply": "2022-11-04T15:35:30.064727Z"
    },
    "papermill": {
     "duration": 0.032298,
     "end_time": "2022-11-04T15:35:30.068674",
     "exception": false,
     "start_time": "2022-11-04T15:35:30.036376",
     "status": "completed"
    },
    "tags": []
   },
   "outputs": [
    {
     "data": {
      "text/plain": [
       "male      64.758698\n",
       "female    35.241302\n",
       "Name: Sex, dtype: float64"
      ]
     },
     "execution_count": 21,
     "metadata": {},
     "output_type": "execute_result"
    }
   ],
   "source": [
    "# Sex col\n",
    "\n",
    "(df['Sex'].value_counts()/df.shape[0])*100\n"
   ]
  },
  {
   "cell_type": "code",
   "execution_count": 22,
   "id": "c213a073",
   "metadata": {
    "execution": {
     "iopub.execute_input": "2022-11-04T15:35:30.107364Z",
     "iopub.status.busy": "2022-11-04T15:35:30.106400Z",
     "iopub.status.idle": "2022-11-04T15:35:30.276574Z",
     "shell.execute_reply": "2022-11-04T15:35:30.275679Z"
    },
    "papermill": {
     "duration": 0.193317,
     "end_time": "2022-11-04T15:35:30.279016",
     "exception": false,
     "start_time": "2022-11-04T15:35:30.085699",
     "status": "completed"
    },
    "tags": []
   },
   "outputs": [
    {
     "data": {
      "image/png": "[encoded data removed]",
      "text/plain": [
       "<Figure size 432x288 with 1 Axes>"
      ]
     },
     "metadata": {},
     "output_type": "display_data"
    }
   ],
   "source": [
    "sns.countplot(df['Sex'])\n",
    "plt.show()"
   ]
  },
  {
   "cell_type": "code",
   "execution_count": 23,
   "id": "e3002b04",
   "metadata": {
    "execution": {
     "iopub.execute_input": "2022-11-04T15:35:30.314929Z",
     "iopub.status.busy": "2022-11-04T15:35:30.313802Z",
     "iopub.status.idle": "2022-11-04T15:35:30.322331Z",
     "shell.execute_reply": "2022-11-04T15:35:30.321169Z"
    },
    "papermill": {
     "duration": 0.028839,
     "end_time": "2022-11-04T15:35:30.324703",
     "exception": false,
     "start_time": "2022-11-04T15:35:30.295864",
     "status": "completed"
    },
    "tags": []
   },
   "outputs": [
    {
     "data": {
      "text/plain": [
       "0    608\n",
       "1    209\n",
       "2     28\n",
       "4     18\n",
       "3     16\n",
       "8      7\n",
       "5      5\n",
       "Name: SibSp, dtype: int64"
      ]
     },
     "execution_count": 23,
     "metadata": {},
     "output_type": "execute_result"
    }
   ],
   "source": [
    "# SibSp\n",
    "\n",
    "df['SibSp'].value_counts()"
   ]
  },
  {
   "cell_type": "code",
   "execution_count": 24,
   "id": "831a9a47",
   "metadata": {
    "execution": {
     "iopub.execute_input": "2022-11-04T15:35:30.360536Z",
     "iopub.status.busy": "2022-11-04T15:35:30.360150Z",
     "iopub.status.idle": "2022-11-04T15:35:30.549903Z",
     "shell.execute_reply": "2022-11-04T15:35:30.548539Z"
    },
    "papermill": {
     "duration": 0.210683,
     "end_time": "2022-11-04T15:35:30.552721",
     "exception": false,
     "start_time": "2022-11-04T15:35:30.342038",
     "status": "completed"
    },
    "tags": []
   },
   "outputs": [
    {
     "data": {
      "image/png": "[encoded data removed]",
      "text/plain": [
       "<Figure size 432x288 with 1 Axes>"
      ]
     },
     "metadata": {},
     "output_type": "display_data"
    }
   ],
   "source": [
    "sns.countplot(df['SibSp'])\n",
    "plt.show()"
   ]
  },
  {
   "cell_type": "code",
   "execution_count": 25,
   "id": "b1707190",
   "metadata": {
    "execution": {
     "iopub.execute_input": "2022-11-04T15:35:30.593114Z",
     "iopub.status.busy": "2022-11-04T15:35:30.592682Z",
     "iopub.status.idle": "2022-11-04T15:35:30.732064Z",
     "shell.execute_reply": "2022-11-04T15:35:30.730558Z"
    },
    "papermill": {
     "duration": 0.164526,
     "end_time": "2022-11-04T15:35:30.736909",
     "exception": false,
     "start_time": "2022-11-04T15:35:30.572383",
     "status": "completed"
    },
    "tags": []
   },
   "outputs": [
    {
     "name": "stdout",
     "output_type": "stream",
     "text": [
      "0    76.094276\n",
      "1    13.243547\n",
      "2     8.978676\n",
      "5     0.561167\n",
      "3     0.561167\n",
      "4     0.448934\n",
      "6     0.112233\n",
      "Name: Parch, dtype: float64\n"
     ]
    },
    {
     "data": {
      "image/png": "[encoded data removed]",
      "text/plain": [
       "<Figure size 432x288 with 1 Axes>"
      ]
     },
     "metadata": {},
     "output_type": "display_data"
    }
   ],
   "source": [
    "print((df['Parch'].value_counts()/df.shape[0])*100)\n",
    "sns.countplot(df['Parch'])\n",
    "plt.show()"
   ]
  },
  {
   "cell_type": "code",
   "execution_count": 26,
   "id": "68670582",
   "metadata": {
    "execution": {
     "iopub.execute_input": "2022-11-04T15:35:30.790640Z",
     "iopub.status.busy": "2022-11-04T15:35:30.789710Z",
     "iopub.status.idle": "2022-11-04T15:35:30.967282Z",
     "shell.execute_reply": "2022-11-04T15:35:30.966441Z"
    },
    "papermill": {
     "duration": 0.198956,
     "end_time": "2022-11-04T15:35:30.969526",
     "exception": false,
     "start_time": "2022-11-04T15:35:30.770570",
     "status": "completed"
    },
    "tags": []
   },
   "outputs": [
    {
     "name": "stdout",
     "output_type": "stream",
     "text": [
      "S    72.502806\n",
      "C    18.855219\n",
      "Q     8.641975\n",
      "Name: Embarked, dtype: float64\n"
     ]
    },
    {
     "data": {
      "image/png": "[encoded data removed]",
      "text/plain": [
       "<Figure size 432x288 with 1 Axes>"
      ]
     },
     "metadata": {},
     "output_type": "display_data"
    }
   ],
   "source": [
    "# Embarked\n",
    "\n",
    "print((df['Embarked'].value_counts()/df.shape[0])*100)\n",
    "sns.countplot(df['Embarked'])\n",
    "plt.show()"
   ]
  },
  {
   "cell_type": "code",
   "execution_count": 27,
   "id": "a7b80b1f",
   "metadata": {
    "execution": {
     "iopub.execute_input": "2022-11-04T15:35:31.008008Z",
     "iopub.status.busy": "2022-11-04T15:35:31.007168Z",
     "iopub.status.idle": "2022-11-04T15:35:31.196783Z",
     "shell.execute_reply": "2022-11-04T15:35:31.195712Z"
    },
    "papermill": {
     "duration": 0.211658,
     "end_time": "2022-11-04T15:35:31.199284",
     "exception": false,
     "start_time": "2022-11-04T15:35:30.987626",
     "status": "completed"
    },
    "tags": []
   },
   "outputs": [
    {
     "data": {
      "image/png": "[encoded data removed]",
      "text/plain": [
       "<Figure size 432x288 with 1 Axes>"
      ]
     },
     "metadata": {},
     "output_type": "display_data"
    }
   ],
   "source": [
    "# Age col\n",
    "\n",
    "plt.hist(df['Age'],bins=8)\n",
    "plt.show()"
   ]
  },
  {
   "cell_type": "code",
   "execution_count": 28,
   "id": "ff66ecd7",
   "metadata": {
    "execution": {
     "iopub.execute_input": "2022-11-04T15:35:31.238075Z",
     "iopub.status.busy": "2022-11-04T15:35:31.237278Z",
     "iopub.status.idle": "2022-11-04T15:35:31.463110Z",
     "shell.execute_reply": "2022-11-04T15:35:31.461966Z"
    },
    "papermill": {
     "duration": 0.247942,
     "end_time": "2022-11-04T15:35:31.465632",
     "exception": false,
     "start_time": "2022-11-04T15:35:31.217690",
     "status": "completed"
    },
    "tags": []
   },
   "outputs": [
    {
     "name": "stdout",
     "output_type": "stream",
     "text": [
      "0.45956263424701577\n",
      "0.9865867453652877\n"
     ]
    },
    {
     "data": {
      "image/png": "[encoded data removed]",
      "text/plain": [
       "<Figure size 432x288 with 1 Axes>"
      ]
     },
     "metadata": {},
     "output_type": "display_data"
    }
   ],
   "source": [
    "print(df['Age'].skew())\n",
    "print(df['Age'].kurt())\n",
    "\n",
    "sns.histplot(df['Age'], kde = True, element='step')\n",
    "plt.show()\n",
    "# element='step' is the Trick to plot this kind of graph"
   ]
  },
  {
   "cell_type": "code",
   "execution_count": 29,
   "id": "c9db3b02",
   "metadata": {
    "execution": {
     "iopub.execute_input": "2022-11-04T15:35:31.505415Z",
     "iopub.status.busy": "2022-11-04T15:35:31.505015Z",
     "iopub.status.idle": "2022-11-04T15:35:31.679452Z",
     "shell.execute_reply": "2022-11-04T15:35:31.677912Z"
    },
    "papermill": {
     "duration": 0.197707,
     "end_time": "2022-11-04T15:35:31.682645",
     "exception": false,
     "start_time": "2022-11-04T15:35:31.484938",
     "status": "completed"
    },
    "tags": []
   },
   "outputs": [
    {
     "data": {
      "image/png": "[encoded data removed]",
      "text/plain": [
       "<Figure size 432x288 with 1 Axes>"
      ]
     },
     "metadata": {},
     "output_type": "display_data"
    }
   ],
   "source": [
    "sns.boxplot(df['Age'])\n",
    "plt.show()"
   ]
  },
  {
   "cell_type": "code",
   "execution_count": 30,
   "id": "ebb10ccc",
   "metadata": {
    "execution": {
     "iopub.execute_input": "2022-11-04T15:35:31.729238Z",
     "iopub.status.busy": "2022-11-04T15:35:31.727915Z",
     "iopub.status.idle": "2022-11-04T15:35:31.740390Z",
     "shell.execute_reply": "2022-11-04T15:35:31.739229Z"
    },
    "papermill": {
     "duration": 0.034988,
     "end_time": "2022-11-04T15:35:31.742854",
     "exception": false,
     "start_time": "2022-11-04T15:35:31.707866",
     "status": "completed"
    },
    "tags": []
   },
   "outputs": [
    {
     "name": "stdout",
     "output_type": "stream",
     "text": [
      "People with age in between 60 and 70 are:  15\n",
      "People with age greater than 70 and 75 are:  6\n",
      "People with age greater than 75 are:  1\n",
      "--------------------------------------------------\n",
      "People with age in between 0 and 1 are:  7\n"
     ]
    }
   ],
   "source": [
    "# Just out of Curiosity: \n",
    "\n",
    "print(\"People with age in between 60 and 70 are: \", df[(df['Age']>60) & (df['Age']<70)].shape[0])\n",
    "print(\"People with age greater than 70 and 75 are: \", df[(df['Age']>=70) & (df['Age']<=75)].shape[0])\n",
    "print(\"People with age greater than 75 are: \", df[df['Age']>75].shape[0])\n",
    "print('-'*50)\n",
    "\n",
    "print(\"People with age in between 0 and 1 are: \", df[df['Age']<1].shape[0])"
   ]
  },
  {
   "cell_type": "markdown",
   "id": "770a55e9",
   "metadata": {
    "papermill": {
     "duration": 0.018483,
     "end_time": "2022-11-04T15:35:31.780069",
     "exception": false,
     "start_time": "2022-11-04T15:35:31.761586",
     "status": "completed"
    },
    "tags": []
   },
   "source": [
    "## Conclusion\n",
    "\n",
    "- For all practical purposes age can be considered as normal distribution\n",
    "- Deeper analysis is required for outlier detection"
   ]
  },
  {
   "cell_type": "code",
   "execution_count": 31,
   "id": "0cb19fb2",
   "metadata": {
    "execution": {
     "iopub.execute_input": "2022-11-04T15:35:31.820146Z",
     "iopub.status.busy": "2022-11-04T15:35:31.819188Z",
     "iopub.status.idle": "2022-11-04T15:35:32.112797Z",
     "shell.execute_reply": "2022-11-04T15:35:32.111584Z"
    },
    "papermill": {
     "duration": 0.316473,
     "end_time": "2022-11-04T15:35:32.115385",
     "exception": false,
     "start_time": "2022-11-04T15:35:31.798912",
     "status": "completed"
    },
    "tags": []
   },
   "outputs": [
    {
     "name": "stdout",
     "output_type": "stream",
     "text": [
      "4.787316519674893\n",
      "33.39814088089868\n"
     ]
    },
    {
     "data": {
      "image/png": "[encoded data removed]",
      "text/plain": [
       "<Figure size 360x360 with 1 Axes>"
      ]
     },
     "metadata": {},
     "output_type": "display_data"
    }
   ],
   "source": [
    "# Fare\n",
    "\n",
    "sns.displot(df['Fare'], kde = True, element='step')\n",
    "print(df['Fare'].skew())\n",
    "print(df['Fare'].kurt())\n",
    "plt.show()"
   ]
  },
  {
   "cell_type": "code",
   "execution_count": 32,
   "id": "8b35ddea",
   "metadata": {
    "execution": {
     "iopub.execute_input": "2022-11-04T15:35:32.155607Z",
     "iopub.status.busy": "2022-11-04T15:35:32.155229Z",
     "iopub.status.idle": "2022-11-04T15:35:32.322372Z",
     "shell.execute_reply": "2022-11-04T15:35:32.321245Z"
    },
    "papermill": {
     "duration": 0.190504,
     "end_time": "2022-11-04T15:35:32.325119",
     "exception": false,
     "start_time": "2022-11-04T15:35:32.134615",
     "status": "completed"
    },
    "tags": []
   },
   "outputs": [
    {
     "data": {
      "image/png": "[encoded data removed]",
      "text/plain": [
       "<Figure size 432x288 with 1 Axes>"
      ]
     },
     "metadata": {},
     "output_type": "display_data"
    }
   ],
   "source": [
    "sns.boxplot(x = df['Fare'])\n",
    "plt.show()"
   ]
  },
  {
   "cell_type": "code",
   "execution_count": 33,
   "id": "298fc79d",
   "metadata": {
    "execution": {
     "iopub.execute_input": "2022-11-04T15:35:32.365712Z",
     "iopub.status.busy": "2022-11-04T15:35:32.365274Z",
     "iopub.status.idle": "2022-11-04T15:35:32.374539Z",
     "shell.execute_reply": "2022-11-04T15:35:32.373411Z"
    },
    "papermill": {
     "duration": 0.03255,
     "end_time": "2022-11-04T15:35:32.377075",
     "exception": false,
     "start_time": "2022-11-04T15:35:32.344525",
     "status": "completed"
    },
    "tags": []
   },
   "outputs": [
    {
     "name": "stdout",
     "output_type": "stream",
     "text": [
      "People witht fare in between $200 and $300:  17\n",
      "People witht fare greater than $300:  3\n"
     ]
    }
   ],
   "source": [
    "print(\"People witht fare in between $200 and $300: \",df[(df['Fare']>200) & (df['Fare']<300)].shape[0])\n",
    "print(\"People witht fare greater than $300: \",df[df['Fare']>300].shape[0])"
   ]
  },
  {
   "cell_type": "markdown",
   "id": "fa2df09d",
   "metadata": {
    "papermill": {
     "duration": 0.019102,
     "end_time": "2022-11-04T15:35:32.415700",
     "exception": false,
     "start_time": "2022-11-04T15:35:32.396598",
     "status": "completed"
    },
    "tags": []
   },
   "source": [
    "## **Conclusion:**\n",
    "- Highly skewed data, a lot of people had cheaper tickets\n",
    "- Outliers are there in the data"
   ]
  },
  {
   "cell_type": "markdown",
   "id": "b1574779",
   "metadata": {
    "papermill": {
     "duration": 0.018979,
     "end_time": "2022-11-04T15:35:32.454194",
     "exception": false,
     "start_time": "2022-11-04T15:35:32.435215",
     "status": "completed"
    },
    "tags": []
   },
   "source": [
    "<div style=\"color:white;\n",
    "           display:fill;\n",
    "           border-radius:15px;\n",
    "           background-color:#0336FF;\n",
    "           font-size:300%;\n",
    "           font-family:Arial;\n",
    "           font-style: Arial;\n",
    "           letter-spacing:0.10px\">\n",
    "\n",
    "<p style=\"font-size:40px; color:white; text-align:center\">Multivariate Analysis</p>\n",
    "</div>\n"
   ]
  },
  {
   "cell_type": "code",
   "execution_count": 34,
   "id": "c9afbd3b",
   "metadata": {
    "execution": {
     "iopub.execute_input": "2022-11-04T15:35:32.494704Z",
     "iopub.status.busy": "2022-11-04T15:35:32.494275Z",
     "iopub.status.idle": "2022-11-04T15:35:32.759345Z",
     "shell.execute_reply": "2022-11-04T15:35:32.758508Z"
    },
    "papermill": {
     "duration": 0.287981,
     "end_time": "2022-11-04T15:35:32.761469",
     "exception": false,
     "start_time": "2022-11-04T15:35:32.473488",
     "status": "completed"
    },
    "tags": []
   },
   "outputs": [
    {
     "data": {
      "text/html": [
       "<div>\n",
       "<style scoped>\n",
       "    .dataframe tbody tr th:only-of-type {\n",
       "        vertical-align: middle;\n",
       "    }\n",
       "\n",
       "    .dataframe tbody tr th {\n",
       "        vertical-align: top;\n",
       "    }\n",
       "\n",
       "    .dataframe thead th {\n",
       "        text-align: right;\n",
       "    }\n",
       "</style>\n",
       "<table border=\"1\" class=\"dataframe\">\n",
       "  <thead>\n",
       "    <tr style=\"text-align: right;\">\n",
       "      <th>Survived</th>\n",
       "      <th>0</th>\n",
       "      <th>1</th>\n",
       "    </tr>\n",
       "    <tr>\n",
       "      <th>Pclass</th>\n",
       "      <th></th>\n",
       "      <th></th>\n",
       "    </tr>\n",
       "  </thead>\n",
       "  <tbody>\n",
       "    <tr>\n",
       "      <th>1</th>\n",
       "      <td>37.0</td>\n",
       "      <td>63.0</td>\n",
       "    </tr>\n",
       "    <tr>\n",
       "      <th>2</th>\n",
       "      <td>52.7</td>\n",
       "      <td>47.3</td>\n",
       "    </tr>\n",
       "    <tr>\n",
       "      <th>3</th>\n",
       "      <td>75.8</td>\n",
       "      <td>24.2</td>\n",
       "    </tr>\n",
       "  </tbody>\n",
       "</table>\n",
       "</div>"
      ],
      "text/plain": [
       "Survived     0     1\n",
       "Pclass              \n",
       "1         37.0  63.0\n",
       "2         52.7  47.3\n",
       "3         75.8  24.2"
      ]
     },
     "execution_count": 34,
     "metadata": {},
     "output_type": "execute_result"
    },
    {
     "data": {
      "image/png": "[encoded data removed]",
      "text/plain": [
       "<Figure size 432x288 with 1 Axes>"
      ]
     },
     "metadata": {},
     "output_type": "display_data"
    }
   ],
   "source": [
    "# Survival with Pclass\n",
    "\n",
    "sns.countplot(x = df['Survived'], hue = df['Pclass'])\n",
    "\n",
    "# creating a table called crosstab\n",
    "\n",
    "pd.crosstab(df['Pclass'], df['Survived']).apply(lambda r: round((r/r.sum())*100,1), axis = 1)\n",
    "\n",
    "# ye bata raha hai. ki Pclass 1 me 37 log mare hai. aur 63 log bache hai. and so on"
   ]
  },
  {
   "cell_type": "code",
   "execution_count": 35,
   "id": "fa143107",
   "metadata": {
    "execution": {
     "iopub.execute_input": "2022-11-04T15:35:32.807229Z",
     "iopub.status.busy": "2022-11-04T15:35:32.806350Z",
     "iopub.status.idle": "2022-11-04T15:35:33.037406Z",
     "shell.execute_reply": "2022-11-04T15:35:33.036313Z"
    },
    "papermill": {
     "duration": 0.258101,
     "end_time": "2022-11-04T15:35:33.040111",
     "exception": false,
     "start_time": "2022-11-04T15:35:32.782010",
     "status": "completed"
    },
    "tags": []
   },
   "outputs": [
    {
     "data": {
      "text/html": [
       "<div>\n",
       "<style scoped>\n",
       "    .dataframe tbody tr th:only-of-type {\n",
       "        vertical-align: middle;\n",
       "    }\n",
       "\n",
       "    .dataframe tbody tr th {\n",
       "        vertical-align: top;\n",
       "    }\n",
       "\n",
       "    .dataframe thead th {\n",
       "        text-align: right;\n",
       "    }\n",
       "</style>\n",
       "<table border=\"1\" class=\"dataframe\">\n",
       "  <thead>\n",
       "    <tr style=\"text-align: right;\">\n",
       "      <th>Survived</th>\n",
       "      <th>0</th>\n",
       "      <th>1</th>\n",
       "    </tr>\n",
       "    <tr>\n",
       "      <th>Sex</th>\n",
       "      <th></th>\n",
       "      <th></th>\n",
       "    </tr>\n",
       "  </thead>\n",
       "  <tbody>\n",
       "    <tr>\n",
       "      <th>female</th>\n",
       "      <td>25.8</td>\n",
       "      <td>74.2</td>\n",
       "    </tr>\n",
       "    <tr>\n",
       "      <th>male</th>\n",
       "      <td>81.1</td>\n",
       "      <td>18.9</td>\n",
       "    </tr>\n",
       "  </tbody>\n",
       "</table>\n",
       "</div>"
      ],
      "text/plain": [
       "Survived     0     1\n",
       "Sex                 \n",
       "female    25.8  74.2\n",
       "male      81.1  18.9"
      ]
     },
     "execution_count": 35,
     "metadata": {},
     "output_type": "execute_result"
    },
    {
     "data": {
      "image/png": "[encoded data removed]",
      "text/plain": [
       "<Figure size 432x288 with 1 Axes>"
      ]
     },
     "metadata": {},
     "output_type": "display_data"
    }
   ],
   "source": [
    "# Survival with Sex\n",
    "\n",
    "sns.countplot(x = df['Survived'], hue = df['Sex'])\n",
    "pd.crosstab(df['Sex'], df['Survived']).apply(lambda r: round((r/r.sum())*100,1), axis = 1)"
   ]
  },
  {
   "cell_type": "code",
   "execution_count": 36,
   "id": "4180c1d1",
   "metadata": {
    "execution": {
     "iopub.execute_input": "2022-11-04T15:35:33.083273Z",
     "iopub.status.busy": "2022-11-04T15:35:33.082276Z",
     "iopub.status.idle": "2022-11-04T15:35:33.321047Z",
     "shell.execute_reply": "2022-11-04T15:35:33.319903Z"
    },
    "papermill": {
     "duration": 0.262647,
     "end_time": "2022-11-04T15:35:33.323372",
     "exception": false,
     "start_time": "2022-11-04T15:35:33.060725",
     "status": "completed"
    },
    "tags": []
   },
   "outputs": [
    {
     "data": {
      "text/html": [
       "<div>\n",
       "<style scoped>\n",
       "    .dataframe tbody tr th:only-of-type {\n",
       "        vertical-align: middle;\n",
       "    }\n",
       "\n",
       "    .dataframe tbody tr th {\n",
       "        vertical-align: top;\n",
       "    }\n",
       "\n",
       "    .dataframe thead th {\n",
       "        text-align: right;\n",
       "    }\n",
       "</style>\n",
       "<table border=\"1\" class=\"dataframe\">\n",
       "  <thead>\n",
       "    <tr style=\"text-align: right;\">\n",
       "      <th>Survived</th>\n",
       "      <th>0</th>\n",
       "      <th>1</th>\n",
       "    </tr>\n",
       "    <tr>\n",
       "      <th>Embarked</th>\n",
       "      <th></th>\n",
       "      <th></th>\n",
       "    </tr>\n",
       "  </thead>\n",
       "  <tbody>\n",
       "    <tr>\n",
       "      <th>C</th>\n",
       "      <td>44.6</td>\n",
       "      <td>55.4</td>\n",
       "    </tr>\n",
       "    <tr>\n",
       "      <th>Q</th>\n",
       "      <td>61.0</td>\n",
       "      <td>39.0</td>\n",
       "    </tr>\n",
       "    <tr>\n",
       "      <th>S</th>\n",
       "      <td>66.1</td>\n",
       "      <td>33.9</td>\n",
       "    </tr>\n",
       "  </tbody>\n",
       "</table>\n",
       "</div>"
      ],
      "text/plain": [
       "Survived     0     1\n",
       "Embarked            \n",
       "C         44.6  55.4\n",
       "Q         61.0  39.0\n",
       "S         66.1  33.9"
      ]
     },
     "execution_count": 36,
     "metadata": {},
     "output_type": "execute_result"
    },
    {
     "data": {
      "image/png": "[encoded data removed]",
      "text/plain": [
       "<Figure size 432x288 with 1 Axes>"
      ]
     },
     "metadata": {},
     "output_type": "display_data"
    }
   ],
   "source": [
    "# Survival with Embarked \n",
    "\n",
    "sns.countplot(x = df['Survived'], hue = df['Embarked'])\n",
    "pd.crosstab(df['Embarked'], df['Survived']).apply(lambda r: round((r/r.sum())*100,1), axis = 1)"
   ]
  },
  {
   "cell_type": "code",
   "execution_count": 37,
   "id": "1c92366e",
   "metadata": {
    "execution": {
     "iopub.execute_input": "2022-11-04T15:35:33.368938Z",
     "iopub.status.busy": "2022-11-04T15:35:33.368114Z",
     "iopub.status.idle": "2022-11-04T15:35:33.686949Z",
     "shell.execute_reply": "2022-11-04T15:35:33.685727Z"
    },
    "papermill": {
     "duration": 0.345105,
     "end_time": "2022-11-04T15:35:33.689692",
     "exception": false,
     "start_time": "2022-11-04T15:35:33.344587",
     "status": "completed"
    },
    "tags": []
   },
   "outputs": [
    {
     "data": {
      "image/png": "[encoded data removed]",
      "text/plain": [
       "<Figure size 1080x432 with 1 Axes>"
      ]
     },
     "metadata": {},
     "output_type": "display_data"
    }
   ],
   "source": [
    "# Survived with Age\n",
    "\n",
    "plt.figure(figsize = (15, 6))\n",
    "sns.distplot(df[df['Survived']==0]['Age'])\n",
    "sns.distplot(df[df['Survived']==1]['Age'])\n",
    "plt.show()"
   ]
  },
  {
   "cell_type": "code",
   "execution_count": 38,
   "id": "5ec7d61a",
   "metadata": {
    "execution": {
     "iopub.execute_input": "2022-11-04T15:35:33.734936Z",
     "iopub.status.busy": "2022-11-04T15:35:33.734233Z",
     "iopub.status.idle": "2022-11-04T15:35:34.273022Z",
     "shell.execute_reply": "2022-11-04T15:35:34.271896Z"
    },
    "papermill": {
     "duration": 0.564563,
     "end_time": "2022-11-04T15:35:34.275805",
     "exception": false,
     "start_time": "2022-11-04T15:35:33.711242",
     "status": "completed"
    },
    "tags": []
   },
   "outputs": [
    {
     "data": {
      "image/png": "[encoded data removed]",
      "text/plain": [
       "<Figure size 1080x432 with 1 Axes>"
      ]
     },
     "metadata": {},
     "output_type": "display_data"
    }
   ],
   "source": [
    "# Survived with Fare\n",
    "\n",
    "plt.figure(figsize = (15, 6))\n",
    "sns.distplot(df[df['Survived']==0]['Fare'])\n",
    "sns.distplot(df[df['Survived']==1]['Fare'])\n",
    "plt.show()"
   ]
  },
  {
   "cell_type": "code",
   "execution_count": 39,
   "id": "364633ff",
   "metadata": {
    "execution": {
     "iopub.execute_input": "2022-11-04T15:35:34.322529Z",
     "iopub.status.busy": "2022-11-04T15:35:34.322124Z",
     "iopub.status.idle": "2022-11-04T15:35:38.870864Z",
     "shell.execute_reply": "2022-11-04T15:35:38.869559Z"
    },
    "papermill": {
     "duration": 4.574852,
     "end_time": "2022-11-04T15:35:38.873655",
     "exception": false,
     "start_time": "2022-11-04T15:35:34.298803",
     "status": "completed"
    },
    "tags": []
   },
   "outputs": [
    {
     "data": {
      "image/png": "[encoded data removed]",
      "text/plain": [
       "<Figure size 900x900 with 30 Axes>"
      ]
     },
     "metadata": {},
     "output_type": "display_data"
    }
   ],
   "source": [
    "# You should always do pairplot:\n",
    "sns.pairplot(df)\n",
    "plt.show()"
   ]
  },
  {
   "cell_type": "code",
   "execution_count": 40,
   "id": "d8fddaaa",
   "metadata": {
    "execution": {
     "iopub.execute_input": "2022-11-04T15:35:38.929940Z",
     "iopub.status.busy": "2022-11-04T15:35:38.929229Z",
     "iopub.status.idle": "2022-11-04T15:35:39.190886Z",
     "shell.execute_reply": "2022-11-04T15:35:39.189930Z"
    },
    "papermill": {
     "duration": 0.291525,
     "end_time": "2022-11-04T15:35:39.193221",
     "exception": false,
     "start_time": "2022-11-04T15:35:38.901696",
     "status": "completed"
    },
    "tags": []
   },
   "outputs": [
    {
     "data": {
      "image/png": "[encoded data removed]",
      "text/plain": [
       "<Figure size 432x288 with 2 Axes>"
      ]
     },
     "metadata": {},
     "output_type": "display_data"
    }
   ],
   "source": [
    "sns.heatmap(df.corr())\n",
    "plt.show()"
   ]
  },
  {
   "cell_type": "markdown",
   "id": "ddcb314e",
   "metadata": {
    "papermill": {
     "duration": 0.026221,
     "end_time": "2022-11-04T15:35:39.246282",
     "exception": false,
     "start_time": "2022-11-04T15:35:39.220061",
     "status": "completed"
    },
    "tags": []
   },
   "source": [
    "<div style=\"color:white;\n",
    "           display:fill;\n",
    "           border-radius:15px;\n",
    "           background-color:#0336FF;\n",
    "           font-size:300%;\n",
    "           font-family:Arial;\n",
    "           font-style: Arial;\n",
    "           letter-spacing:0.10px\">\n",
    "\n",
    "<p style=\"font-size:40px; color:white; text-align:center\">Feature Engineering </p>\n",
    "</div>\n"
   ]
  },
  {
   "cell_type": "code",
   "execution_count": 41,
   "id": "4998aa4f",
   "metadata": {
    "execution": {
     "iopub.execute_input": "2022-11-04T15:35:39.301524Z",
     "iopub.status.busy": "2022-11-04T15:35:39.300815Z",
     "iopub.status.idle": "2022-11-04T15:35:39.306192Z",
     "shell.execute_reply": "2022-11-04T15:35:39.305355Z"
    },
    "papermill": {
     "duration": 0.035421,
     "end_time": "2022-11-04T15:35:39.308444",
     "exception": false,
     "start_time": "2022-11-04T15:35:39.273023",
     "status": "completed"
    },
    "tags": []
   },
   "outputs": [],
   "source": [
    "# We will create a new coclumn by the name of family which will be the sum of SibSp and Parch cols\n",
    "\n",
    "df['family_size'] = df['Parch']+df['SibSp']"
   ]
  },
  {
   "cell_type": "code",
   "execution_count": 42,
   "id": "433adfd1",
   "metadata": {
    "execution": {
     "iopub.execute_input": "2022-11-04T15:35:39.363933Z",
     "iopub.status.busy": "2022-11-04T15:35:39.363122Z",
     "iopub.status.idle": "2022-11-04T15:35:39.381635Z",
     "shell.execute_reply": "2022-11-04T15:35:39.380224Z"
    },
    "papermill": {
     "duration": 0.049469,
     "end_time": "2022-11-04T15:35:39.384183",
     "exception": false,
     "start_time": "2022-11-04T15:35:39.334714",
     "status": "completed"
    },
    "tags": []
   },
   "outputs": [
    {
     "data": {
      "text/html": [
       "<div>\n",
       "<style scoped>\n",
       "    .dataframe tbody tr th:only-of-type {\n",
       "        vertical-align: middle;\n",
       "    }\n",
       "\n",
       "    .dataframe tbody tr th {\n",
       "        vertical-align: top;\n",
       "    }\n",
       "\n",
       "    .dataframe thead th {\n",
       "        text-align: right;\n",
       "    }\n",
       "</style>\n",
       "<table border=\"1\" class=\"dataframe\">\n",
       "  <thead>\n",
       "    <tr style=\"text-align: right;\">\n",
       "      <th></th>\n",
       "      <th>PassengerId</th>\n",
       "      <th>Survived</th>\n",
       "      <th>Pclass</th>\n",
       "      <th>Name</th>\n",
       "      <th>Sex</th>\n",
       "      <th>Age</th>\n",
       "      <th>SibSp</th>\n",
       "      <th>Parch</th>\n",
       "      <th>Ticket</th>\n",
       "      <th>Fare</th>\n",
       "      <th>Embarked</th>\n",
       "      <th>family_size</th>\n",
       "    </tr>\n",
       "  </thead>\n",
       "  <tbody>\n",
       "    <tr>\n",
       "      <th>4</th>\n",
       "      <td>5</td>\n",
       "      <td>0</td>\n",
       "      <td>3</td>\n",
       "      <td>Allen, Mr. William Henry</td>\n",
       "      <td>male</td>\n",
       "      <td>35</td>\n",
       "      <td>0</td>\n",
       "      <td>0</td>\n",
       "      <td>373450</td>\n",
       "      <td>8.0500</td>\n",
       "      <td>S</td>\n",
       "      <td>0</td>\n",
       "    </tr>\n",
       "    <tr>\n",
       "      <th>26</th>\n",
       "      <td>27</td>\n",
       "      <td>0</td>\n",
       "      <td>3</td>\n",
       "      <td>Emir, Mr. Farred Chehab</td>\n",
       "      <td>male</td>\n",
       "      <td>29</td>\n",
       "      <td>0</td>\n",
       "      <td>0</td>\n",
       "      <td>2631</td>\n",
       "      <td>7.2250</td>\n",
       "      <td>C</td>\n",
       "      <td>0</td>\n",
       "    </tr>\n",
       "    <tr>\n",
       "      <th>800</th>\n",
       "      <td>801</td>\n",
       "      <td>0</td>\n",
       "      <td>2</td>\n",
       "      <td>Ponesell, Mr. Martin</td>\n",
       "      <td>male</td>\n",
       "      <td>34</td>\n",
       "      <td>0</td>\n",
       "      <td>0</td>\n",
       "      <td>250647</td>\n",
       "      <td>13.0000</td>\n",
       "      <td>S</td>\n",
       "      <td>0</td>\n",
       "    </tr>\n",
       "    <tr>\n",
       "      <th>771</th>\n",
       "      <td>772</td>\n",
       "      <td>0</td>\n",
       "      <td>3</td>\n",
       "      <td>Jensen, Mr. Niels Peder</td>\n",
       "      <td>male</td>\n",
       "      <td>48</td>\n",
       "      <td>0</td>\n",
       "      <td>0</td>\n",
       "      <td>350047</td>\n",
       "      <td>7.8542</td>\n",
       "      <td>S</td>\n",
       "      <td>0</td>\n",
       "    </tr>\n",
       "    <tr>\n",
       "      <th>71</th>\n",
       "      <td>72</td>\n",
       "      <td>0</td>\n",
       "      <td>3</td>\n",
       "      <td>Goodwin, Miss. Lillian Amy</td>\n",
       "      <td>female</td>\n",
       "      <td>16</td>\n",
       "      <td>5</td>\n",
       "      <td>2</td>\n",
       "      <td>CA 2144</td>\n",
       "      <td>46.9000</td>\n",
       "      <td>S</td>\n",
       "      <td>7</td>\n",
       "    </tr>\n",
       "  </tbody>\n",
       "</table>\n",
       "</div>"
      ],
      "text/plain": [
       "     PassengerId Survived Pclass                        Name     Sex  Age  \\\n",
       "4              5        0      3    Allen, Mr. William Henry    male   35   \n",
       "26            27        0      3     Emir, Mr. Farred Chehab    male   29   \n",
       "800          801        0      2        Ponesell, Mr. Martin    male   34   \n",
       "771          772        0      3     Jensen, Mr. Niels Peder    male   48   \n",
       "71            72        0      3  Goodwin, Miss. Lillian Amy  female   16   \n",
       "\n",
       "     SibSp  Parch   Ticket     Fare Embarked  family_size  \n",
       "4        0      0   373450   8.0500        S            0  \n",
       "26       0      0     2631   7.2250        C            0  \n",
       "800      0      0   250647  13.0000        S            0  \n",
       "771      0      0   350047   7.8542        S            0  \n",
       "71       5      2  CA 2144  46.9000        S            7  "
      ]
     },
     "execution_count": 42,
     "metadata": {},
     "output_type": "execute_result"
    }
   ],
   "source": [
    "df.sample(5)"
   ]
  },
  {
   "cell_type": "code",
   "execution_count": 43,
   "id": "566cd37d",
   "metadata": {
    "execution": {
     "iopub.execute_input": "2022-11-04T15:35:39.439523Z",
     "iopub.status.busy": "2022-11-04T15:35:39.439093Z",
     "iopub.status.idle": "2022-11-04T15:35:39.445092Z",
     "shell.execute_reply": "2022-11-04T15:35:39.443961Z"
    },
    "papermill": {
     "duration": 0.036895,
     "end_time": "2022-11-04T15:35:39.447499",
     "exception": false,
     "start_time": "2022-11-04T15:35:39.410604",
     "status": "completed"
    },
    "tags": []
   },
   "outputs": [],
   "source": [
    "# Now we will engineer a new feature by the name of family type \n",
    "\n",
    "def family_type(number):\n",
    "    if number==0:\n",
    "        return 'Alone'\n",
    "    elif number>0 and number<=4:\n",
    "        return 'Medium'\n",
    "    else:\n",
    "        return 'Large'"
   ]
  },
  {
   "cell_type": "code",
   "execution_count": 44,
   "id": "fc276888",
   "metadata": {
    "execution": {
     "iopub.execute_input": "2022-11-04T15:35:39.503105Z",
     "iopub.status.busy": "2022-11-04T15:35:39.502644Z",
     "iopub.status.idle": "2022-11-04T15:35:39.508848Z",
     "shell.execute_reply": "2022-11-04T15:35:39.507903Z"
    },
    "papermill": {
     "duration": 0.037202,
     "end_time": "2022-11-04T15:35:39.511226",
     "exception": false,
     "start_time": "2022-11-04T15:35:39.474024",
     "status": "completed"
    },
    "tags": []
   },
   "outputs": [],
   "source": [
    "df['family_type']= df['family_size'].apply(family_type)"
   ]
  },
  {
   "cell_type": "code",
   "execution_count": 45,
   "id": "6e49768c",
   "metadata": {
    "execution": {
     "iopub.execute_input": "2022-11-04T15:35:39.566555Z",
     "iopub.status.busy": "2022-11-04T15:35:39.565935Z",
     "iopub.status.idle": "2022-11-04T15:35:39.587520Z",
     "shell.execute_reply": "2022-11-04T15:35:39.585896Z"
    },
    "papermill": {
     "duration": 0.05274,
     "end_time": "2022-11-04T15:35:39.590311",
     "exception": false,
     "start_time": "2022-11-04T15:35:39.537571",
     "status": "completed"
    },
    "tags": []
   },
   "outputs": [
    {
     "data": {
      "text/html": [
       "<div>\n",
       "<style scoped>\n",
       "    .dataframe tbody tr th:only-of-type {\n",
       "        vertical-align: middle;\n",
       "    }\n",
       "\n",
       "    .dataframe tbody tr th {\n",
       "        vertical-align: top;\n",
       "    }\n",
       "\n",
       "    .dataframe thead th {\n",
       "        text-align: right;\n",
       "    }\n",
       "</style>\n",
       "<table border=\"1\" class=\"dataframe\">\n",
       "  <thead>\n",
       "    <tr style=\"text-align: right;\">\n",
       "      <th></th>\n",
       "      <th>PassengerId</th>\n",
       "      <th>Survived</th>\n",
       "      <th>Pclass</th>\n",
       "      <th>Name</th>\n",
       "      <th>Sex</th>\n",
       "      <th>Age</th>\n",
       "      <th>SibSp</th>\n",
       "      <th>Parch</th>\n",
       "      <th>Ticket</th>\n",
       "      <th>Fare</th>\n",
       "      <th>Embarked</th>\n",
       "      <th>family_size</th>\n",
       "      <th>family_type</th>\n",
       "    </tr>\n",
       "  </thead>\n",
       "  <tbody>\n",
       "    <tr>\n",
       "      <th>412</th>\n",
       "      <td>413</td>\n",
       "      <td>1</td>\n",
       "      <td>1</td>\n",
       "      <td>Minahan, Miss. Daisy E</td>\n",
       "      <td>female</td>\n",
       "      <td>33</td>\n",
       "      <td>1</td>\n",
       "      <td>0</td>\n",
       "      <td>19928</td>\n",
       "      <td>90.0000</td>\n",
       "      <td>Q</td>\n",
       "      <td>1</td>\n",
       "      <td>Medium</td>\n",
       "    </tr>\n",
       "    <tr>\n",
       "      <th>381</th>\n",
       "      <td>382</td>\n",
       "      <td>1</td>\n",
       "      <td>3</td>\n",
       "      <td>Nakid, Miss. Maria (\"Mary\")</td>\n",
       "      <td>female</td>\n",
       "      <td>1</td>\n",
       "      <td>0</td>\n",
       "      <td>2</td>\n",
       "      <td>2653</td>\n",
       "      <td>15.7417</td>\n",
       "      <td>C</td>\n",
       "      <td>2</td>\n",
       "      <td>Medium</td>\n",
       "    </tr>\n",
       "    <tr>\n",
       "      <th>881</th>\n",
       "      <td>882</td>\n",
       "      <td>0</td>\n",
       "      <td>3</td>\n",
       "      <td>Markun, Mr. Johann</td>\n",
       "      <td>male</td>\n",
       "      <td>33</td>\n",
       "      <td>0</td>\n",
       "      <td>0</td>\n",
       "      <td>349257</td>\n",
       "      <td>7.8958</td>\n",
       "      <td>S</td>\n",
       "      <td>0</td>\n",
       "      <td>Alone</td>\n",
       "    </tr>\n",
       "    <tr>\n",
       "      <th>2</th>\n",
       "      <td>3</td>\n",
       "      <td>1</td>\n",
       "      <td>3</td>\n",
       "      <td>Heikkinen, Miss. Laina</td>\n",
       "      <td>female</td>\n",
       "      <td>26</td>\n",
       "      <td>0</td>\n",
       "      <td>0</td>\n",
       "      <td>STON/O2. 3101282</td>\n",
       "      <td>7.9250</td>\n",
       "      <td>S</td>\n",
       "      <td>0</td>\n",
       "      <td>Alone</td>\n",
       "    </tr>\n",
       "    <tr>\n",
       "      <th>256</th>\n",
       "      <td>257</td>\n",
       "      <td>1</td>\n",
       "      <td>1</td>\n",
       "      <td>Thorne, Mrs. Gertrude Maybelle</td>\n",
       "      <td>female</td>\n",
       "      <td>29</td>\n",
       "      <td>0</td>\n",
       "      <td>0</td>\n",
       "      <td>PC 17585</td>\n",
       "      <td>79.2000</td>\n",
       "      <td>C</td>\n",
       "      <td>0</td>\n",
       "      <td>Alone</td>\n",
       "    </tr>\n",
       "  </tbody>\n",
       "</table>\n",
       "</div>"
      ],
      "text/plain": [
       "     PassengerId Survived Pclass                            Name     Sex  Age  \\\n",
       "412          413        1      1          Minahan, Miss. Daisy E  female   33   \n",
       "381          382        1      3     Nakid, Miss. Maria (\"Mary\")  female    1   \n",
       "881          882        0      3              Markun, Mr. Johann    male   33   \n",
       "2              3        1      3          Heikkinen, Miss. Laina  female   26   \n",
       "256          257        1      1  Thorne, Mrs. Gertrude Maybelle  female   29   \n",
       "\n",
       "     SibSp  Parch            Ticket     Fare Embarked  family_size family_type  \n",
       "412      1      0             19928  90.0000        Q            1      Medium  \n",
       "381      0      2              2653  15.7417        C            2      Medium  \n",
       "881      0      0            349257   7.8958        S            0       Alone  \n",
       "2        0      0  STON/O2. 3101282   7.9250        S            0       Alone  \n",
       "256      0      0          PC 17585  79.2000        C            0       Alone  "
      ]
     },
     "execution_count": 45,
     "metadata": {},
     "output_type": "execute_result"
    }
   ],
   "source": [
    "df.sample(5)"
   ]
  },
  {
   "cell_type": "code",
   "execution_count": 46,
   "id": "5ec6c4de",
   "metadata": {
    "execution": {
     "iopub.execute_input": "2022-11-04T15:35:39.646546Z",
     "iopub.status.busy": "2022-11-04T15:35:39.645669Z",
     "iopub.status.idle": "2022-11-04T15:35:39.652756Z",
     "shell.execute_reply": "2022-11-04T15:35:39.651879Z"
    },
    "papermill": {
     "duration": 0.037906,
     "end_time": "2022-11-04T15:35:39.655313",
     "exception": false,
     "start_time": "2022-11-04T15:35:39.617407",
     "status": "completed"
    },
    "tags": []
   },
   "outputs": [],
   "source": [
    "# Now we don't need SibSp, Parch and family_size\n",
    "df.drop(columns=['SibSp', 'Parch', 'family_size'], inplace=True)"
   ]
  },
  {
   "cell_type": "code",
   "execution_count": 47,
   "id": "8644df72",
   "metadata": {
    "execution": {
     "iopub.execute_input": "2022-11-04T15:35:39.711757Z",
     "iopub.status.busy": "2022-11-04T15:35:39.710566Z",
     "iopub.status.idle": "2022-11-04T15:35:39.730098Z",
     "shell.execute_reply": "2022-11-04T15:35:39.728851Z"
    },
    "papermill": {
     "duration": 0.050532,
     "end_time": "2022-11-04T15:35:39.732552",
     "exception": false,
     "start_time": "2022-11-04T15:35:39.682020",
     "status": "completed"
    },
    "tags": []
   },
   "outputs": [
    {
     "data": {
      "text/html": [
       "<div>\n",
       "<style scoped>\n",
       "    .dataframe tbody tr th:only-of-type {\n",
       "        vertical-align: middle;\n",
       "    }\n",
       "\n",
       "    .dataframe tbody tr th {\n",
       "        vertical-align: top;\n",
       "    }\n",
       "\n",
       "    .dataframe thead th {\n",
       "        text-align: right;\n",
       "    }\n",
       "</style>\n",
       "<table border=\"1\" class=\"dataframe\">\n",
       "  <thead>\n",
       "    <tr style=\"text-align: right;\">\n",
       "      <th></th>\n",
       "      <th>PassengerId</th>\n",
       "      <th>Survived</th>\n",
       "      <th>Pclass</th>\n",
       "      <th>Name</th>\n",
       "      <th>Sex</th>\n",
       "      <th>Age</th>\n",
       "      <th>Ticket</th>\n",
       "      <th>Fare</th>\n",
       "      <th>Embarked</th>\n",
       "      <th>family_type</th>\n",
       "    </tr>\n",
       "  </thead>\n",
       "  <tbody>\n",
       "    <tr>\n",
       "      <th>230</th>\n",
       "      <td>231</td>\n",
       "      <td>1</td>\n",
       "      <td>1</td>\n",
       "      <td>Harris, Mrs. Henry Birkhardt (Irene Wallach)</td>\n",
       "      <td>female</td>\n",
       "      <td>35</td>\n",
       "      <td>36973</td>\n",
       "      <td>83.4750</td>\n",
       "      <td>S</td>\n",
       "      <td>Medium</td>\n",
       "    </tr>\n",
       "    <tr>\n",
       "      <th>343</th>\n",
       "      <td>344</td>\n",
       "      <td>0</td>\n",
       "      <td>2</td>\n",
       "      <td>Sedgwick, Mr. Charles Frederick Waddington</td>\n",
       "      <td>male</td>\n",
       "      <td>25</td>\n",
       "      <td>244361</td>\n",
       "      <td>13.0000</td>\n",
       "      <td>S</td>\n",
       "      <td>Alone</td>\n",
       "    </tr>\n",
       "    <tr>\n",
       "      <th>889</th>\n",
       "      <td>890</td>\n",
       "      <td>1</td>\n",
       "      <td>1</td>\n",
       "      <td>Behr, Mr. Karl Howell</td>\n",
       "      <td>male</td>\n",
       "      <td>26</td>\n",
       "      <td>111369</td>\n",
       "      <td>30.0000</td>\n",
       "      <td>C</td>\n",
       "      <td>Alone</td>\n",
       "    </tr>\n",
       "    <tr>\n",
       "      <th>54</th>\n",
       "      <td>55</td>\n",
       "      <td>0</td>\n",
       "      <td>1</td>\n",
       "      <td>Ostby, Mr. Engelhart Cornelius</td>\n",
       "      <td>male</td>\n",
       "      <td>65</td>\n",
       "      <td>113509</td>\n",
       "      <td>61.9792</td>\n",
       "      <td>C</td>\n",
       "      <td>Medium</td>\n",
       "    </tr>\n",
       "    <tr>\n",
       "      <th>317</th>\n",
       "      <td>318</td>\n",
       "      <td>0</td>\n",
       "      <td>2</td>\n",
       "      <td>Moraweck, Dr. Ernest</td>\n",
       "      <td>male</td>\n",
       "      <td>54</td>\n",
       "      <td>29011</td>\n",
       "      <td>14.0000</td>\n",
       "      <td>S</td>\n",
       "      <td>Alone</td>\n",
       "    </tr>\n",
       "  </tbody>\n",
       "</table>\n",
       "</div>"
      ],
      "text/plain": [
       "     PassengerId Survived Pclass  \\\n",
       "230          231        1      1   \n",
       "343          344        0      2   \n",
       "889          890        1      1   \n",
       "54            55        0      1   \n",
       "317          318        0      2   \n",
       "\n",
       "                                             Name     Sex  Age  Ticket  \\\n",
       "230  Harris, Mrs. Henry Birkhardt (Irene Wallach)  female   35   36973   \n",
       "343    Sedgwick, Mr. Charles Frederick Waddington    male   25  244361   \n",
       "889                         Behr, Mr. Karl Howell    male   26  111369   \n",
       "54                 Ostby, Mr. Engelhart Cornelius    male   65  113509   \n",
       "317                          Moraweck, Dr. Ernest    male   54   29011   \n",
       "\n",
       "        Fare Embarked family_type  \n",
       "230  83.4750        S      Medium  \n",
       "343  13.0000        S       Alone  \n",
       "889  30.0000        C       Alone  \n",
       "54   61.9792        C      Medium  \n",
       "317  14.0000        S       Alone  "
      ]
     },
     "execution_count": 47,
     "metadata": {},
     "output_type": "execute_result"
    }
   ],
   "source": [
    "df.sample(5)"
   ]
  },
  {
   "cell_type": "code",
   "execution_count": 48,
   "id": "cdf7ce82",
   "metadata": {
    "execution": {
     "iopub.execute_input": "2022-11-04T15:35:39.788378Z",
     "iopub.status.busy": "2022-11-04T15:35:39.787943Z",
     "iopub.status.idle": "2022-11-04T15:35:39.815794Z",
     "shell.execute_reply": "2022-11-04T15:35:39.814716Z"
    },
    "papermill": {
     "duration": 0.058985,
     "end_time": "2022-11-04T15:35:39.818386",
     "exception": false,
     "start_time": "2022-11-04T15:35:39.759401",
     "status": "completed"
    },
    "tags": []
   },
   "outputs": [
    {
     "data": {
      "text/html": [
       "<div>\n",
       "<style scoped>\n",
       "    .dataframe tbody tr th:only-of-type {\n",
       "        vertical-align: middle;\n",
       "    }\n",
       "\n",
       "    .dataframe tbody tr th {\n",
       "        vertical-align: top;\n",
       "    }\n",
       "\n",
       "    .dataframe thead th {\n",
       "        text-align: right;\n",
       "    }\n",
       "</style>\n",
       "<table border=\"1\" class=\"dataframe\">\n",
       "  <thead>\n",
       "    <tr style=\"text-align: right;\">\n",
       "      <th>Survived</th>\n",
       "      <th>0</th>\n",
       "      <th>1</th>\n",
       "    </tr>\n",
       "    <tr>\n",
       "      <th>family_type</th>\n",
       "      <th></th>\n",
       "      <th></th>\n",
       "    </tr>\n",
       "  </thead>\n",
       "  <tbody>\n",
       "    <tr>\n",
       "      <th>Alone</th>\n",
       "      <td>69.6</td>\n",
       "      <td>30.4</td>\n",
       "    </tr>\n",
       "    <tr>\n",
       "      <th>Large</th>\n",
       "      <td>85.1</td>\n",
       "      <td>14.9</td>\n",
       "    </tr>\n",
       "    <tr>\n",
       "      <th>Medium</th>\n",
       "      <td>44.0</td>\n",
       "      <td>56.0</td>\n",
       "    </tr>\n",
       "  </tbody>\n",
       "</table>\n",
       "</div>"
      ],
      "text/plain": [
       "Survived        0     1\n",
       "family_type            \n",
       "Alone        69.6  30.4\n",
       "Large        85.1  14.9\n",
       "Medium       44.0  56.0"
      ]
     },
     "execution_count": 48,
     "metadata": {},
     "output_type": "execute_result"
    }
   ],
   "source": [
    "# Now, lets analyze survived with family type:\n",
    "\n",
    "pd.crosstab(df['family_type'], df['Survived']).apply(lambda r: round((r/r.sum())*100,1), axis = 1)\n",
    "\n",
    "# So, people traveling alone around 70% mar gae. \n",
    "# Large family ke saath travel kar rahe 85% mar gae."
   ]
  },
  {
   "cell_type": "markdown",
   "id": "7009b0fc",
   "metadata": {
    "papermill": {
     "duration": 0.027316,
     "end_time": "2022-11-04T15:35:39.873111",
     "exception": false,
     "start_time": "2022-11-04T15:35:39.845795",
     "status": "completed"
    },
    "tags": []
   },
   "source": [
    "<div style=\"color:white;\n",
    "           display:fill;\n",
    "           border-radius:15px;\n",
    "           background-color:#0336FF;\n",
    "           font-size:300%;\n",
    "           font-family:Arial;\n",
    "           font-style: Arial;\n",
    "           letter-spacing:0.10px\">\n",
    "\n",
    "<p style=\"font-size:40px; color:white; text-align:center\">Handling Outliers</p>\n",
    "</div>"
   ]
  },
  {
   "cell_type": "markdown",
   "id": "a97ede31",
   "metadata": {
    "papermill": {
     "duration": 0.026976,
     "end_time": "2022-11-04T15:35:39.927244",
     "exception": false,
     "start_time": "2022-11-04T15:35:39.900268",
     "status": "completed"
    },
    "tags": []
   },
   "source": [
    "## **Numerical Data**\n",
    "\n",
    "- if the data is following normal distribution, anything beyound 3*SD - mean+ 3*SD can be considered as an outlier.(This is a formula '3 time standerd deviation wala')\n",
    "- if the data does not follow normal distribution, using boxplot we can eliminate points beyond Q1 - 1.5 IQR and Q3 + 1.5 IQR (This is also a formula to detect outlier Q means Quartile)"
   ]
  },
  {
   "cell_type": "markdown",
   "id": "a892c9a0",
   "metadata": {
    "papermill": {
     "duration": 0.027067,
     "end_time": "2022-11-04T15:35:39.981721",
     "exception": false,
     "start_time": "2022-11-04T15:35:39.954654",
     "status": "completed"
    },
    "tags": []
   },
   "source": [
    "## **Categorical Data**\n",
    "\n",
    "- if the col in highly imbailanced for e.g. male 10000 and female 2 then we can eliminate female"
   ]
  },
  {
   "cell_type": "code",
   "execution_count": 49,
   "id": "7520570e",
   "metadata": {
    "execution": {
     "iopub.execute_input": "2022-11-04T15:35:40.038474Z",
     "iopub.status.busy": "2022-11-04T15:35:40.037673Z",
     "iopub.status.idle": "2022-11-04T15:35:40.047306Z",
     "shell.execute_reply": "2022-11-04T15:35:40.046135Z"
    },
    "papermill": {
     "duration": 0.040689,
     "end_time": "2022-11-04T15:35:40.049647",
     "exception": false,
     "start_time": "2022-11-04T15:35:40.008958",
     "status": "completed"
    },
    "tags": []
   },
   "outputs": [
    {
     "data": {
      "text/plain": [
       "(884, 10)"
      ]
     },
     "execution_count": 49,
     "metadata": {},
     "output_type": "execute_result"
    }
   ],
   "source": [
    "# Handling Outliers in age (Almost normal)\n",
    "\n",
    "df = df[df['Age']<(df['Age'].mean() + 3 * df['Age'].std())]\n",
    "df.shape"
   ]
  },
  {
   "cell_type": "code",
   "execution_count": 50,
   "id": "8c8844b1",
   "metadata": {
    "execution": {
     "iopub.execute_input": "2022-11-04T15:35:40.106889Z",
     "iopub.status.busy": "2022-11-04T15:35:40.105756Z",
     "iopub.status.idle": "2022-11-04T15:35:40.114478Z",
     "shell.execute_reply": "2022-11-04T15:35:40.113288Z"
    },
    "papermill": {
     "duration": 0.040656,
     "end_time": "2022-11-04T15:35:40.117452",
     "exception": false,
     "start_time": "2022-11-04T15:35:40.076796",
     "status": "completed"
    },
    "tags": []
   },
   "outputs": [],
   "source": [
    "# Handling outliers from Fare column\n",
    "\n",
    "# Finding quartiles\n",
    "\n",
    "Q1 = np.percentile(df['Fare'], 25)\n",
    "Q3 = np.percentile(df['Fare'], 75)\n",
    "\n",
    "outlier_low = Q1 - 1.5 * (Q3 - Q1)\n",
    "outlier_high = Q3 + 1.5 * (Q3 - Q1)\n",
    "\n",
    "df = df[(df['Fare']> outlier_low) & (df['Fare']<outlier_high)]"
   ]
  },
  {
   "cell_type": "code",
   "execution_count": 51,
   "id": "41e67e0f",
   "metadata": {
    "execution": {
     "iopub.execute_input": "2022-11-04T15:35:40.174949Z",
     "iopub.status.busy": "2022-11-04T15:35:40.174108Z",
     "iopub.status.idle": "2022-11-04T15:35:40.204949Z",
     "shell.execute_reply": "2022-11-04T15:35:40.203704Z"
    },
    "papermill": {
     "duration": 0.062755,
     "end_time": "2022-11-04T15:35:40.207531",
     "exception": false,
     "start_time": "2022-11-04T15:35:40.144776",
     "status": "completed"
    },
    "tags": []
   },
   "outputs": [
    {
     "data": {
      "text/html": [
       "<div>\n",
       "<style scoped>\n",
       "    .dataframe tbody tr th:only-of-type {\n",
       "        vertical-align: middle;\n",
       "    }\n",
       "\n",
       "    .dataframe tbody tr th {\n",
       "        vertical-align: top;\n",
       "    }\n",
       "\n",
       "    .dataframe thead th {\n",
       "        text-align: right;\n",
       "    }\n",
       "</style>\n",
       "<table border=\"1\" class=\"dataframe\">\n",
       "  <thead>\n",
       "    <tr style=\"text-align: right;\">\n",
       "      <th></th>\n",
       "      <th>PassengerId</th>\n",
       "      <th>Survived</th>\n",
       "      <th>Name</th>\n",
       "      <th>Age</th>\n",
       "      <th>Ticket</th>\n",
       "      <th>Fare</th>\n",
       "      <th>Pclass_2</th>\n",
       "      <th>Pclass_3</th>\n",
       "      <th>Sex_male</th>\n",
       "      <th>Embarked_Q</th>\n",
       "      <th>Embarked_S</th>\n",
       "      <th>family_type_Large</th>\n",
       "      <th>family_type_Medium</th>\n",
       "    </tr>\n",
       "  </thead>\n",
       "  <tbody>\n",
       "    <tr>\n",
       "      <th>0</th>\n",
       "      <td>1</td>\n",
       "      <td>0</td>\n",
       "      <td>Braund, Mr. Owen Harris</td>\n",
       "      <td>22</td>\n",
       "      <td>A/5 21171</td>\n",
       "      <td>7.2500</td>\n",
       "      <td>0</td>\n",
       "      <td>1</td>\n",
       "      <td>1</td>\n",
       "      <td>0</td>\n",
       "      <td>1</td>\n",
       "      <td>0</td>\n",
       "      <td>1</td>\n",
       "    </tr>\n",
       "    <tr>\n",
       "      <th>2</th>\n",
       "      <td>3</td>\n",
       "      <td>1</td>\n",
       "      <td>Heikkinen, Miss. Laina</td>\n",
       "      <td>26</td>\n",
       "      <td>STON/O2. 3101282</td>\n",
       "      <td>7.9250</td>\n",
       "      <td>0</td>\n",
       "      <td>1</td>\n",
       "      <td>0</td>\n",
       "      <td>0</td>\n",
       "      <td>1</td>\n",
       "      <td>0</td>\n",
       "      <td>0</td>\n",
       "    </tr>\n",
       "    <tr>\n",
       "      <th>3</th>\n",
       "      <td>4</td>\n",
       "      <td>1</td>\n",
       "      <td>Futrelle, Mrs. Jacques Heath (Lily May Peel)</td>\n",
       "      <td>35</td>\n",
       "      <td>113803</td>\n",
       "      <td>53.1000</td>\n",
       "      <td>0</td>\n",
       "      <td>0</td>\n",
       "      <td>0</td>\n",
       "      <td>0</td>\n",
       "      <td>1</td>\n",
       "      <td>0</td>\n",
       "      <td>1</td>\n",
       "    </tr>\n",
       "    <tr>\n",
       "      <th>4</th>\n",
       "      <td>5</td>\n",
       "      <td>0</td>\n",
       "      <td>Allen, Mr. William Henry</td>\n",
       "      <td>35</td>\n",
       "      <td>373450</td>\n",
       "      <td>8.0500</td>\n",
       "      <td>0</td>\n",
       "      <td>1</td>\n",
       "      <td>1</td>\n",
       "      <td>0</td>\n",
       "      <td>1</td>\n",
       "      <td>0</td>\n",
       "      <td>0</td>\n",
       "    </tr>\n",
       "    <tr>\n",
       "      <th>5</th>\n",
       "      <td>6</td>\n",
       "      <td>0</td>\n",
       "      <td>Moran, Mr. James</td>\n",
       "      <td>29</td>\n",
       "      <td>330877</td>\n",
       "      <td>8.4583</td>\n",
       "      <td>0</td>\n",
       "      <td>1</td>\n",
       "      <td>1</td>\n",
       "      <td>1</td>\n",
       "      <td>0</td>\n",
       "      <td>0</td>\n",
       "      <td>0</td>\n",
       "    </tr>\n",
       "    <tr>\n",
       "      <th>...</th>\n",
       "      <td>...</td>\n",
       "      <td>...</td>\n",
       "      <td>...</td>\n",
       "      <td>...</td>\n",
       "      <td>...</td>\n",
       "      <td>...</td>\n",
       "      <td>...</td>\n",
       "      <td>...</td>\n",
       "      <td>...</td>\n",
       "      <td>...</td>\n",
       "      <td>...</td>\n",
       "      <td>...</td>\n",
       "      <td>...</td>\n",
       "    </tr>\n",
       "    <tr>\n",
       "      <th>886</th>\n",
       "      <td>887</td>\n",
       "      <td>0</td>\n",
       "      <td>Montvila, Rev. Juozas</td>\n",
       "      <td>27</td>\n",
       "      <td>211536</td>\n",
       "      <td>13.0000</td>\n",
       "      <td>1</td>\n",
       "      <td>0</td>\n",
       "      <td>1</td>\n",
       "      <td>0</td>\n",
       "      <td>1</td>\n",
       "      <td>0</td>\n",
       "      <td>0</td>\n",
       "    </tr>\n",
       "    <tr>\n",
       "      <th>887</th>\n",
       "      <td>888</td>\n",
       "      <td>1</td>\n",
       "      <td>Graham, Miss. Margaret Edith</td>\n",
       "      <td>19</td>\n",
       "      <td>112053</td>\n",
       "      <td>30.0000</td>\n",
       "      <td>0</td>\n",
       "      <td>0</td>\n",
       "      <td>0</td>\n",
       "      <td>0</td>\n",
       "      <td>1</td>\n",
       "      <td>0</td>\n",
       "      <td>0</td>\n",
       "    </tr>\n",
       "    <tr>\n",
       "      <th>888</th>\n",
       "      <td>889</td>\n",
       "      <td>0</td>\n",
       "      <td>Johnston, Miss. Catherine Helen \"Carrie\"</td>\n",
       "      <td>29</td>\n",
       "      <td>W./C. 6607</td>\n",
       "      <td>23.4500</td>\n",
       "      <td>0</td>\n",
       "      <td>1</td>\n",
       "      <td>0</td>\n",
       "      <td>0</td>\n",
       "      <td>1</td>\n",
       "      <td>0</td>\n",
       "      <td>1</td>\n",
       "    </tr>\n",
       "    <tr>\n",
       "      <th>889</th>\n",
       "      <td>890</td>\n",
       "      <td>1</td>\n",
       "      <td>Behr, Mr. Karl Howell</td>\n",
       "      <td>26</td>\n",
       "      <td>111369</td>\n",
       "      <td>30.0000</td>\n",
       "      <td>0</td>\n",
       "      <td>0</td>\n",
       "      <td>1</td>\n",
       "      <td>0</td>\n",
       "      <td>0</td>\n",
       "      <td>0</td>\n",
       "      <td>0</td>\n",
       "    </tr>\n",
       "    <tr>\n",
       "      <th>890</th>\n",
       "      <td>891</td>\n",
       "      <td>0</td>\n",
       "      <td>Dooley, Mr. Patrick</td>\n",
       "      <td>32</td>\n",
       "      <td>370376</td>\n",
       "      <td>7.7500</td>\n",
       "      <td>0</td>\n",
       "      <td>1</td>\n",
       "      <td>1</td>\n",
       "      <td>1</td>\n",
       "      <td>0</td>\n",
       "      <td>0</td>\n",
       "      <td>0</td>\n",
       "    </tr>\n",
       "  </tbody>\n",
       "</table>\n",
       "<p>769 rows × 13 columns</p>\n",
       "</div>"
      ],
      "text/plain": [
       "     PassengerId Survived                                          Name  Age  \\\n",
       "0              1        0                       Braund, Mr. Owen Harris   22   \n",
       "2              3        1                        Heikkinen, Miss. Laina   26   \n",
       "3              4        1  Futrelle, Mrs. Jacques Heath (Lily May Peel)   35   \n",
       "4              5        0                      Allen, Mr. William Henry   35   \n",
       "5              6        0                              Moran, Mr. James   29   \n",
       "..           ...      ...                                           ...  ...   \n",
       "886          887        0                         Montvila, Rev. Juozas   27   \n",
       "887          888        1                  Graham, Miss. Margaret Edith   19   \n",
       "888          889        0      Johnston, Miss. Catherine Helen \"Carrie\"   29   \n",
       "889          890        1                         Behr, Mr. Karl Howell   26   \n",
       "890          891        0                           Dooley, Mr. Patrick   32   \n",
       "\n",
       "               Ticket     Fare  Pclass_2  Pclass_3  Sex_male  Embarked_Q  \\\n",
       "0           A/5 21171   7.2500         0         1         1           0   \n",
       "2    STON/O2. 3101282   7.9250         0         1         0           0   \n",
       "3              113803  53.1000         0         0         0           0   \n",
       "4              373450   8.0500         0         1         1           0   \n",
       "5              330877   8.4583         0         1         1           1   \n",
       "..                ...      ...       ...       ...       ...         ...   \n",
       "886            211536  13.0000         1         0         1           0   \n",
       "887            112053  30.0000         0         0         0           0   \n",
       "888        W./C. 6607  23.4500         0         1         0           0   \n",
       "889            111369  30.0000         0         0         1           0   \n",
       "890            370376   7.7500         0         1         1           1   \n",
       "\n",
       "     Embarked_S  family_type_Large  family_type_Medium  \n",
       "0             1                  0                   1  \n",
       "2             1                  0                   0  \n",
       "3             1                  0                   1  \n",
       "4             1                  0                   0  \n",
       "5             0                  0                   0  \n",
       "..          ...                ...                 ...  \n",
       "886           1                  0                   0  \n",
       "887           1                  0                   0  \n",
       "888           1                  0                   1  \n",
       "889           0                  0                   0  \n",
       "890           0                  0                   0  \n",
       "\n",
       "[769 rows x 13 columns]"
      ]
     },
     "execution_count": 51,
     "metadata": {},
     "output_type": "execute_result"
    }
   ],
   "source": [
    "# One hot encoding (isse hum categorical column ko numerical column me badalte hai)\n",
    "# e.g., male aur female = 0, 1\n",
    "# lekin isme aisa nahi hoga. agar 3 column hai. mumbai, kolkata, chennai\n",
    "# to bajae 0, 1, 2 likhne ke hum mumbai ke liye '1 0 0' likh sakte hai.\n",
    "# aur ek step aage badhe to 1 aur 0 ko rakh ke last wale zero ko drop kar sakte hai.\n",
    "# to yahi karne wale hai. jitne bhi column banenge uska pahla column hata denge.\n",
    "\n",
    "# following chart me Pclass 1 drop ho gaya, Sex_female aur Embarked_C aur family_type_alone bhi drop ho gaye.\n",
    "df.sample(4)\n",
    "\n",
    "# Cols to be transformed are Pclass, Sex, Embarked, family_type\n",
    "\n",
    "pd.get_dummies(data=df, columns=['Pclass', 'Sex', 'Embarked', 'family_type'], drop_first = True)"
   ]
  },
  {
   "cell_type": "code",
   "execution_count": 52,
   "id": "22c4d290",
   "metadata": {
    "execution": {
     "iopub.execute_input": "2022-11-04T15:35:40.265965Z",
     "iopub.status.busy": "2022-11-04T15:35:40.265531Z",
     "iopub.status.idle": "2022-11-04T15:35:40.278241Z",
     "shell.execute_reply": "2022-11-04T15:35:40.277149Z"
    },
    "papermill": {
     "duration": 0.044342,
     "end_time": "2022-11-04T15:35:40.280659",
     "exception": false,
     "start_time": "2022-11-04T15:35:40.236317",
     "status": "completed"
    },
    "tags": []
   },
   "outputs": [],
   "source": [
    "df = pd.get_dummies(data= df, columns = ['Pclass', 'Sex', 'Embarked', 'family_type'], drop_first= True)"
   ]
  },
  {
   "cell_type": "code",
   "execution_count": 53,
   "id": "9a587ed3",
   "metadata": {
    "execution": {
     "iopub.execute_input": "2022-11-04T15:35:40.339133Z",
     "iopub.status.busy": "2022-11-04T15:35:40.338438Z",
     "iopub.status.idle": "2022-11-04T15:35:40.735049Z",
     "shell.execute_reply": "2022-11-04T15:35:40.733886Z"
    },
    "papermill": {
     "duration": 0.429551,
     "end_time": "2022-11-04T15:35:40.737953",
     "exception": false,
     "start_time": "2022-11-04T15:35:40.308402",
     "status": "completed"
    },
    "tags": []
   },
   "outputs": [
    {
     "data": {
      "image/png": "[encoded data removed]",
      "text/plain": [
       "<Figure size 1080x432 with 2 Axes>"
      ]
     },
     "metadata": {},
     "output_type": "display_data"
    }
   ],
   "source": [
    "# AB phir se corrilation ke oopar ek Heatmap draw karenge. \n",
    "# ab jyada numerical column hai to heatmap jyada cheej bataega.\n",
    "\n",
    "plt.figure(figsize = (15, 6))\n",
    "sns.heatmap(df.corr(), cmap = 'summer')\n",
    "plt.show()\n",
    "\n",
    "# Conclusions: \n",
    "# Family_type_medium ka Fare ke saath positive corrilation hai.\n",
    "# Family_type_large jyadatar Pclass_3 me travel kar rahe hai."
   ]
  },
  {
   "cell_type": "markdown",
   "id": "8b9dfd48",
   "metadata": {
    "papermill": {
     "duration": 0.028843,
     "end_time": "2022-11-04T15:35:40.795517",
     "exception": false,
     "start_time": "2022-11-04T15:35:40.766674",
     "status": "completed"
    },
    "tags": []
   },
   "source": [
    "## **Drawing Conclusions**\n",
    "\n",
    "- Chance of female survival is higher than male survival\n",
    "- Travelling in Pclass 3 was deadliest \n",
    "- Somehow, people going to C survived more \n",
    "- People in the age range of 20 to 40 had a higher chance of not surviving \n",
    "- People travelling with smaller families had a higher chance of surviving the accident in comparison to people with large families and travelling alone."
   ]
  },
  {
   "cell_type": "markdown",
   "id": "c71ca519",
   "metadata": {
    "papermill": {
     "duration": 0.027842,
     "end_time": "2022-11-04T15:35:40.852441",
     "exception": false,
     "start_time": "2022-11-04T15:35:40.824599",
     "status": "completed"
    },
    "tags": []
   },
   "source": [
    "#### **Thanks a lot for having a look at this notebook. If you found this notebook useful, consider ✨**Upvoting**✨**, \n",
    "\n",
    "##### **If you have any idea/suggestions about this notebook, please leave a comment!**\n",
    "\n",
    "##### **Thank you all for your reading and support!**\n",
    "##### **HAPPY LEARNING :)**"
   ]
  }
 ],
 "metadata": {
  "kernelspec": {
   "display_name": "Python 3",
   "language": "python",
   "name": "python3"
  },
  "language_info": {
   "codemirror_mode": {
    "name": "ipython",
    "version": 3
   },
   "file_extension": ".py",
   "mimetype": "text/x-python",
   "name": "python",
   "nbconvert_exporter": "python",
   "pygments_lexer": "ipython3",
   "version": "3.7.12"
  },
  "papermill": {
   "default_parameters": {},
   "duration": 22.446824,
   "end_time": "2022-11-04T15:35:41.702298",
   "environment_variables": {},
   "exception": null,
   "input_path": "__notebook__.ipynb",
   "output_path": "__notebook__.ipynb",
   "parameters": {},
   "start_time": "2022-11-04T15:35:19.255474",
   "version": "2.3.4"
  }
 },
 "nbformat": 4,
 "nbformat_minor": 5
}
